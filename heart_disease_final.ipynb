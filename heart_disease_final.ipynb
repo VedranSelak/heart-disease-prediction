{
 "cells": [
  {
   "cell_type": "markdown",
   "id": "622ab816-2531-44cc-9e13-99e39939909c",
   "metadata": {},
   "source": [
    "# Hearth Disease prediction"
   ]
  },
  {
   "cell_type": "markdown",
   "id": "1d1d8cae-c6a6-4f64-977d-4de33e840025",
   "metadata": {
    "tags": []
   },
   "source": [
    "## Loading the data"
   ]
  },
  {
   "cell_type": "code",
   "execution_count": 1,
   "id": "60fa6da8-0fb3-43eb-bb4a-494975799478",
   "metadata": {},
   "outputs": [
    {
     "data": {
      "text/html": [
       "<div>\n",
       "<style scoped>\n",
       "    .dataframe tbody tr th:only-of-type {\n",
       "        vertical-align: middle;\n",
       "    }\n",
       "\n",
       "    .dataframe tbody tr th {\n",
       "        vertical-align: top;\n",
       "    }\n",
       "\n",
       "    .dataframe thead th {\n",
       "        text-align: right;\n",
       "    }\n",
       "</style>\n",
       "<table border=\"1\" class=\"dataframe\">\n",
       "  <thead>\n",
       "    <tr style=\"text-align: right;\">\n",
       "      <th></th>\n",
       "      <th>HeartDisease</th>\n",
       "      <th>BMI</th>\n",
       "      <th>Smoking</th>\n",
       "      <th>AlcoholDrinking</th>\n",
       "      <th>Stroke</th>\n",
       "      <th>PhysicalHealth</th>\n",
       "      <th>MentalHealth</th>\n",
       "      <th>DiffWalking</th>\n",
       "      <th>Sex</th>\n",
       "      <th>AgeCategory</th>\n",
       "      <th>Race</th>\n",
       "      <th>Diabetic</th>\n",
       "      <th>PhysicalActivity</th>\n",
       "      <th>GenHealth</th>\n",
       "      <th>SleepTime</th>\n",
       "      <th>Asthma</th>\n",
       "      <th>KidneyDisease</th>\n",
       "      <th>SkinCancer</th>\n",
       "    </tr>\n",
       "  </thead>\n",
       "  <tbody>\n",
       "    <tr>\n",
       "      <th>0</th>\n",
       "      <td>No</td>\n",
       "      <td>16.60</td>\n",
       "      <td>Yes</td>\n",
       "      <td>No</td>\n",
       "      <td>No</td>\n",
       "      <td>3.0</td>\n",
       "      <td>30.0</td>\n",
       "      <td>No</td>\n",
       "      <td>Female</td>\n",
       "      <td>55-59</td>\n",
       "      <td>White</td>\n",
       "      <td>Yes</td>\n",
       "      <td>Yes</td>\n",
       "      <td>Very good</td>\n",
       "      <td>5.0</td>\n",
       "      <td>Yes</td>\n",
       "      <td>No</td>\n",
       "      <td>Yes</td>\n",
       "    </tr>\n",
       "    <tr>\n",
       "      <th>1</th>\n",
       "      <td>No</td>\n",
       "      <td>20.34</td>\n",
       "      <td>No</td>\n",
       "      <td>No</td>\n",
       "      <td>Yes</td>\n",
       "      <td>0.0</td>\n",
       "      <td>0.0</td>\n",
       "      <td>No</td>\n",
       "      <td>Female</td>\n",
       "      <td>80 or older</td>\n",
       "      <td>White</td>\n",
       "      <td>No</td>\n",
       "      <td>Yes</td>\n",
       "      <td>Very good</td>\n",
       "      <td>7.0</td>\n",
       "      <td>No</td>\n",
       "      <td>No</td>\n",
       "      <td>No</td>\n",
       "    </tr>\n",
       "    <tr>\n",
       "      <th>2</th>\n",
       "      <td>No</td>\n",
       "      <td>26.58</td>\n",
       "      <td>Yes</td>\n",
       "      <td>No</td>\n",
       "      <td>No</td>\n",
       "      <td>20.0</td>\n",
       "      <td>30.0</td>\n",
       "      <td>No</td>\n",
       "      <td>Male</td>\n",
       "      <td>65-69</td>\n",
       "      <td>White</td>\n",
       "      <td>Yes</td>\n",
       "      <td>Yes</td>\n",
       "      <td>Fair</td>\n",
       "      <td>8.0</td>\n",
       "      <td>Yes</td>\n",
       "      <td>No</td>\n",
       "      <td>No</td>\n",
       "    </tr>\n",
       "    <tr>\n",
       "      <th>3</th>\n",
       "      <td>No</td>\n",
       "      <td>24.21</td>\n",
       "      <td>No</td>\n",
       "      <td>No</td>\n",
       "      <td>No</td>\n",
       "      <td>0.0</td>\n",
       "      <td>0.0</td>\n",
       "      <td>No</td>\n",
       "      <td>Female</td>\n",
       "      <td>75-79</td>\n",
       "      <td>White</td>\n",
       "      <td>No</td>\n",
       "      <td>No</td>\n",
       "      <td>Good</td>\n",
       "      <td>6.0</td>\n",
       "      <td>No</td>\n",
       "      <td>No</td>\n",
       "      <td>Yes</td>\n",
       "    </tr>\n",
       "    <tr>\n",
       "      <th>4</th>\n",
       "      <td>No</td>\n",
       "      <td>23.71</td>\n",
       "      <td>No</td>\n",
       "      <td>No</td>\n",
       "      <td>No</td>\n",
       "      <td>28.0</td>\n",
       "      <td>0.0</td>\n",
       "      <td>Yes</td>\n",
       "      <td>Female</td>\n",
       "      <td>40-44</td>\n",
       "      <td>White</td>\n",
       "      <td>No</td>\n",
       "      <td>Yes</td>\n",
       "      <td>Very good</td>\n",
       "      <td>8.0</td>\n",
       "      <td>No</td>\n",
       "      <td>No</td>\n",
       "      <td>No</td>\n",
       "    </tr>\n",
       "  </tbody>\n",
       "</table>\n",
       "</div>"
      ],
      "text/plain": [
       "  HeartDisease    BMI Smoking AlcoholDrinking Stroke  PhysicalHealth  \\\n",
       "0           No  16.60     Yes              No     No             3.0   \n",
       "1           No  20.34      No              No    Yes             0.0   \n",
       "2           No  26.58     Yes              No     No            20.0   \n",
       "3           No  24.21      No              No     No             0.0   \n",
       "4           No  23.71      No              No     No            28.0   \n",
       "\n",
       "   MentalHealth DiffWalking     Sex  AgeCategory   Race Diabetic  \\\n",
       "0          30.0          No  Female        55-59  White      Yes   \n",
       "1           0.0          No  Female  80 or older  White       No   \n",
       "2          30.0          No    Male        65-69  White      Yes   \n",
       "3           0.0          No  Female        75-79  White       No   \n",
       "4           0.0         Yes  Female        40-44  White       No   \n",
       "\n",
       "  PhysicalActivity  GenHealth  SleepTime Asthma KidneyDisease SkinCancer  \n",
       "0              Yes  Very good        5.0    Yes            No        Yes  \n",
       "1              Yes  Very good        7.0     No            No         No  \n",
       "2              Yes       Fair        8.0    Yes            No         No  \n",
       "3               No       Good        6.0     No            No        Yes  \n",
       "4              Yes  Very good        8.0     No            No         No  "
      ]
     },
     "execution_count": 1,
     "metadata": {},
     "output_type": "execute_result"
    }
   ],
   "source": [
    "import numpy as np\n",
    "import pandas as pd\n",
    "import matplotlib.pyplot as plt\n",
    "import seaborn as sns\n",
    "from sklearn.model_selection import train_test_split\n",
    "from sklearn.metrics import accuracy_score, classification_report, confusion_matrix, f1_score\n",
    "from sklearn.linear_model import LogisticRegression\n",
    "from sklearn.ensemble import RandomForestClassifier\n",
    "\n",
    "hd_data = pd.read_csv(\"../heart_2020_cleaned.csv\")\n",
    "hd_data.head()"
   ]
  },
  {
   "cell_type": "code",
   "execution_count": 2,
   "id": "9d2b8816-9c2c-4160-8438-46354d88bda1",
   "metadata": {},
   "outputs": [
    {
     "data": {
      "text/plain": [
       "(319795, 18)"
      ]
     },
     "execution_count": 2,
     "metadata": {},
     "output_type": "execute_result"
    }
   ],
   "source": [
    "hd_data.shape"
   ]
  },
  {
   "cell_type": "markdown",
   "id": "6e2ca133-f5b5-4275-8142-609d9d03a437",
   "metadata": {},
   "source": [
    "*Here we can see that there are 18 features in this dataset, with one feature being the label. The lable of the dataset is the HeartDisease feature, therefore we have 17 features and 319795 data points.*"
   ]
  },
  {
   "cell_type": "code",
   "execution_count": 3,
   "id": "9d252d26-71ef-4ad2-8ae3-795b626bc2fb",
   "metadata": {},
   "outputs": [
    {
     "name": "stdout",
     "output_type": "stream",
     "text": [
      "<class 'pandas.core.frame.DataFrame'>\n",
      "RangeIndex: 319795 entries, 0 to 319794\n",
      "Data columns (total 18 columns):\n",
      " #   Column            Non-Null Count   Dtype  \n",
      "---  ------            --------------   -----  \n",
      " 0   HeartDisease      319795 non-null  object \n",
      " 1   BMI               319795 non-null  float64\n",
      " 2   Smoking           319795 non-null  object \n",
      " 3   AlcoholDrinking   319795 non-null  object \n",
      " 4   Stroke            319795 non-null  object \n",
      " 5   PhysicalHealth    319795 non-null  float64\n",
      " 6   MentalHealth      319795 non-null  float64\n",
      " 7   DiffWalking       319795 non-null  object \n",
      " 8   Sex               319795 non-null  object \n",
      " 9   AgeCategory       319795 non-null  object \n",
      " 10  Race              319795 non-null  object \n",
      " 11  Diabetic          319795 non-null  object \n",
      " 12  PhysicalActivity  319795 non-null  object \n",
      " 13  GenHealth         319795 non-null  object \n",
      " 14  SleepTime         319795 non-null  float64\n",
      " 15  Asthma            319795 non-null  object \n",
      " 16  KidneyDisease     319795 non-null  object \n",
      " 17  SkinCancer        319795 non-null  object \n",
      "dtypes: float64(4), object(14)\n",
      "memory usage: 43.9+ MB\n"
     ]
    }
   ],
   "source": [
    "hd_data.info()"
   ]
  },
  {
   "cell_type": "markdown",
   "id": "68ae0bd3-b530-4a69-a56b-1d0f5ffc7fc3",
   "metadata": {},
   "source": [
    "*Above I used the df.info() function to check the data types of the features and to check does any feature have null values. Luckily, there are no null values in the data.*"
   ]
  },
  {
   "cell_type": "markdown",
   "id": "9acc933d-6413-471d-8ed2-1cd666e7c308",
   "metadata": {},
   "source": [
    "## Visualizing the data"
   ]
  },
  {
   "cell_type": "code",
   "execution_count": 4,
   "id": "940ef222-5652-4ca7-b429-2fd13817e974",
   "metadata": {},
   "outputs": [
    {
     "name": "stdout",
     "output_type": "stream",
     "text": [
      "No     91.440454\n",
      "Yes     8.559546\n",
      "Name: HeartDisease, dtype: float64\n"
     ]
    },
    {
     "data": {
      "image/png": "[encoded data removed]",
      "text/plain": [
       "<Figure size 432x288 with 1 Axes>"
      ]
     },
     "metadata": {
      "needs_background": "light"
     },
     "output_type": "display_data"
    }
   ],
   "source": [
    "sns.countplot(x='HeartDisease', data=hd_data)\n",
    "print(hd_data.HeartDisease.value_counts() / len(hd_data) * 100)"
   ]
  },
  {
   "cell_type": "markdown",
   "id": "135e7fc4-205c-4ac8-86a2-568ba3eb7439",
   "metadata": {},
   "source": [
    "*From the graph above we can see that there are **91.4%** noes when it comes to heart disease and only **8.5%** yeses. This means that I am working with an imbalanced dataset.*"
   ]
  },
  {
   "cell_type": "markdown",
   "id": "5806156d-250d-4c58-a573-9d935135b51e",
   "metadata": {},
   "source": [
    "### Demography\n",
    "Here we are going to see what effects does the demography have on heart disease."
   ]
  },
  {
   "cell_type": "code",
   "execution_count": 5,
   "id": "a2b94a1d-1494-48df-a2e1-1cb675c3095c",
   "metadata": {},
   "outputs": [
    {
     "name": "stdout",
     "output_type": "stream",
     "text": [
      "The percentages of heart disease cases based on the age category\n",
      "80 or older    19.906477\n",
      "70-74          17.707230\n",
      "65-69          14.981916\n",
      "75-79          14.791948\n",
      "60-64          12.154313\n",
      "55-59           8.044423\n",
      "50-54           5.052424\n",
      "45-49           2.718007\n",
      "40-44           1.775472\n",
      "35-39           1.081358\n",
      "30-34           0.825631\n",
      "25-29           0.485880\n",
      "18-24           0.474921\n",
      "Name: AgeCategory, dtype: float64\n"
     ]
    },
    {
     "data": {
      "image/png": "[encoded data removed]",
      "text/plain": [
       "<Figure size 1080x576 with 1 Axes>"
      ]
     },
     "metadata": {
      "needs_background": "light"
     },
     "output_type": "display_data"
    }
   ],
   "source": [
    "# Ploting the impact of age\n",
    "data = hd_data[hd_data['HeartDisease'] == 'Yes'].copy()\n",
    "data.sort_values(\"AgeCategory\", inplace=True)\n",
    "data.AgeCategory.hist(figsize=(15,8))\n",
    "print(\"The percentages of heart disease cases based on the age category\")\n",
    "print(data.AgeCategory.value_counts() / len(data) * 100)"
   ]
  },
  {
   "cell_type": "markdown",
   "id": "72b88814-5e8b-4034-9698-08e774121369",
   "metadata": {},
   "source": [
    "*From the data and graph, that is displayed above we can see that age has a big impact on the whether the person has a heart disease or not.*\n",
    "*Around **87.5%** of the people that have a heart disease are above 50 years old.*"
   ]
  },
  {
   "cell_type": "code",
   "execution_count": 6,
   "id": "6640c728-78b2-40d5-9d26-a4e84c97f346",
   "metadata": {},
   "outputs": [
    {
     "name": "stdout",
     "output_type": "stream",
     "text": [
      "      Sex  HeartDisease\n",
      "0  Female      0.066947\n",
      "1    Male      0.106185\n"
     ]
    },
    {
     "data": {
      "image/png": "[encoded data removed]",
      "text/plain": [
       "<Figure size 1080x360 with 2 Axes>"
      ]
     },
     "metadata": {
      "needs_background": "light"
     },
     "output_type": "display_data"
    }
   ],
   "source": [
    "# Ploting the impact of sex\n",
    "data = hd_data.copy()\n",
    "data.HeartDisease.replace({\"Yes\": 1, \"No\": 0}, inplace=True)\n",
    "fig, axs = plt.subplots(ncols=2, figsize=(15, 5))\n",
    "sns.barplot(x='Sex', y='HeartDisease', data=data, ax=axs[0])\n",
    "sns.countplot(x='HeartDisease', hue='Sex', data=data, ax=axs[1])\n",
    "print(data.groupby('Sex',as_index=False).HeartDisease.mean())"
   ]
  },
  {
   "cell_type": "markdown",
   "id": "17d8e5db-895b-4a2b-9d56-303467c4badf",
   "metadata": {},
   "source": [
    "*We can see that in the dataset **10%** of men have a heart disease while ony **6%** of women have a heart disease. In the second graph we can see the number of people with or without a heart disease, grouped by sex. The data tells us that men are in higher risk of heart diseases then women.*"
   ]
  },
  {
   "cell_type": "code",
   "execution_count": 7,
   "id": "82e34906-329d-4e01-951c-9a994c437729",
   "metadata": {},
   "outputs": [],
   "source": [
    "# function for calculating the percentage of people with heart disease based on two columns\n",
    "def groupData(dataF, firstColumn, secondColumn):\n",
    "    df = pd.pivot_table(dataF, index=[firstColumn, secondColumn], columns=[\"HeartDisease\"], aggfunc='size')\n",
    "    df[\"HeartDisease%\"] = (df[1] / (df[1]+df[0])) * 100\n",
    "    df = df.reset_index()\n",
    "    df[f'{firstColumn}/{secondColumn}'] = df[firstColumn] + '/' + df[secondColumn]\n",
    "    df = df[[f'{firstColumn}/{secondColumn}', \"HeartDisease%\"]]\n",
    "    df.sort_values(\"HeartDisease%\", inplace=True)\n",
    "    return df"
   ]
  },
  {
   "cell_type": "code",
   "execution_count": 8,
   "id": "e57eeb03-5f8c-4864-94f7-7798bf111343",
   "metadata": {},
   "outputs": [
    {
     "name": "stdout",
     "output_type": "stream",
     "text": [
      "                             Race  HeartDisease\n",
      "0  American Indian/Alaskan Native      0.104191\n",
      "1                           Asian      0.032970\n",
      "2                           Black      0.075374\n",
      "3                        Hispanic      0.052576\n",
      "4                           Other      0.081076\n",
      "5                           White      0.091786 \n",
      "\n",
      "HeartDisease                               Race/Sex  HeartDisease%\n",
      "2                                      Asian/Female       2.236504\n",
      "3                                        Asian/Male       4.284347\n",
      "6                                   Hispanic/Female       4.827302\n",
      "7                                     Hispanic/Male       5.744004\n",
      "10                                     White/Female       6.911373\n",
      "8                                      Other/Female       7.025547\n",
      "4                                      Black/Female       7.257054\n",
      "5                                        Black/Male       7.943626\n",
      "9                                        Other/Male       9.196035\n",
      "0             American Indian/Alaskan Native/Female       9.360486\n",
      "11                                       White/Male      11.634328\n",
      "1               American Indian/Alaskan Native/Male      11.652102 \n",
      "\n"
     ]
    },
    {
     "data": {
      "image/png": "[encoded data removed]",
      "text/plain": [
       "<Figure size 1080x1080 with 2 Axes>"
      ]
     },
     "metadata": {
      "needs_background": "light"
     },
     "output_type": "display_data"
    }
   ],
   "source": [
    "# ploting the impact of race\n",
    "fig, axs = plt.subplots(nrows=2, figsize=(15, 15))\n",
    "sns.barplot(x='HeartDisease', y='Race', data=data, ax=axs[0])\n",
    "print(data.groupby('Race',as_index=False).HeartDisease.mean(), '\\n')\n",
    "    \n",
    "# ploting the impact of sex and race when grouped\n",
    "sr_data = groupData(data, 'Race', 'Sex')\n",
    "sns.barplot(x='HeartDisease%', y='Race/Sex', data=sr_data, ax=axs[1])\n",
    "print(sr_data, '\\n')"
   ]
  },
  {
   "cell_type": "markdown",
   "id": "3c2d355c-0231-481a-8bbc-83a571ef9f3a",
   "metadata": {},
   "source": [
    "*The grahps and the data displayed show us that the race has a big impact when it comes to heart diseases. The second graph gives us a great showing of how for each race the men have a higher percentage than women. However, Hispanic and Asian people have a much lower percentage than others, both men and women have a smaller percentage than the other race groups. On the other end of the graph we can see that American Indian/Alaskan Native males and females have very high percentages, a percentage that is higher than almost all other Race/Sex groups (only White males are in between).*"
   ]
  },
  {
   "cell_type": "markdown",
   "id": "8a8f101c-1ee8-4ac6-a602-4ec8c2cab8fc",
   "metadata": {},
   "source": [
    "**Conclusion:** *The dempgraphic characteristics of a person have a big impact on the risk of heart disease.*"
   ]
  },
  {
   "cell_type": "markdown",
   "id": "d9b3a85a-9ecf-4a7e-8daa-a785ee85f771",
   "metadata": {},
   "source": [
    "### Lifestyle\n",
    "In the previous section we saw how demography impact the risk, in this section we will look at the impact of the persons *lifestyle/life decisions*."
   ]
  },
  {
   "cell_type": "code",
   "execution_count": 9,
   "id": "1a73e945-6fee-42f8-a612-6a308277d9a3",
   "metadata": {},
   "outputs": [
    {
     "name": "stdout",
     "output_type": "stream",
     "text": [
      "HeartDisease AlcoholDrinking/Smoking  HeartDisease%\n",
      "2                             Yes/No       3.001674\n",
      "0                              No/No       6.174627\n",
      "3                            Yes/Yes       6.634365\n",
      "1                             No/Yes      12.783034\n"
     ]
    },
    {
     "data": {
      "image/png": "[encoded data removed]",
      "text/plain": [
       "<Figure size 432x288 with 1 Axes>"
      ]
     },
     "metadata": {
      "needs_background": "light"
     },
     "output_type": "display_data"
    }
   ],
   "source": [
    "# ploting the impact of smoking and drinking alcohol\n",
    "sa_data = groupData(data, 'AlcoholDrinking', 'Smoking')\n",
    "sns.barplot(x='HeartDisease%', y='AlcoholDrinking/Smoking', data=sa_data)\n",
    "print(sa_data)"
   ]
  },
  {
   "cell_type": "markdown",
   "id": "a6d09b1e-7eb2-4043-9cd8-cf5583424c95",
   "metadata": {},
   "source": [
    "*The data in the graph above shows how Drinking alcohol and smoking cigarettes impacts the risk of having a heart disease. However, the data in the dataset is, in my opinion, not well crafted. For smoking, the question to which we get and answer yes/no is \"Have you smoked at least 100 cigarettes in your entire life? [Note: 5 packs = 100 cigarettes]\" and for drinking alcohol \"Heavy drinkers (adult men having more than 14 drinks per week and adult women having more than 7 drinks per week\". I think that if we had more categories instead of just Yes or No, the data would make more sense.*"
   ]
  },
  {
   "cell_type": "markdown",
   "id": "0430ec6e-050d-40f7-b839-b64cd4ab248d",
   "metadata": {},
   "source": [
    "*However, working with data that we have we can see that smoking has a larger impact when in comes to heart disease risk. The top 2 categories with highest risk smoke cigarettes.*"
   ]
  },
  {
   "cell_type": "code",
   "execution_count": 10,
   "id": "cd96884b-e3d4-4467-9a6a-4b060c22d515",
   "metadata": {},
   "outputs": [
    {
     "name": "stdout",
     "output_type": "stream",
     "text": [
      "HeartDisease SleepTime/PhysicalActivity  HeartDisease%\n",
      "1                      Sleep over 6/Yes       6.826530\n",
      "3                    Sleep under 6h/Yes       9.623806\n",
      "0                       Sleep over 6/No      13.090856\n",
      "2                     Sleep under 6h/No      17.809027 \n",
      "\n"
     ]
    },
    {
     "data": {
      "image/png": "[encoded data removed]",
      "text/plain": [
       "<Figure size 432x288 with 1 Axes>"
      ]
     },
     "metadata": {
      "needs_background": "light"
     },
     "output_type": "display_data"
    }
   ],
   "source": [
    "# categorizing the SleepTime data\n",
    "data['SleepTime'] = data['SleepTime'].apply(lambda x : 'Sleep over 6' if x >= 6 else 'Sleep under 6h')\n",
    "\n",
    "# grouping the data and ploting it\n",
    "ps_data = groupData(data, 'SleepTime', 'PhysicalActivity')\n",
    "sns.barplot(x='HeartDisease%', y='SleepTime/PhysicalActivity', data=ps_data)\n",
    "print(ps_data, '\\n')"
   ]
  },
  {
   "cell_type": "markdown",
   "id": "cc531d1f-d9e0-43ed-b184-4b675dc771b6",
   "metadata": {},
   "source": [
    "*The graph above shows how important it is to sleep for more than 6 hours and have physical activity in your life. It is iteresting to see how much of an impact the physical activity has on the risk of having a heart disease.*"
   ]
  },
  {
   "cell_type": "markdown",
   "id": "ed40f2dc-7afe-4bf5-b59a-ddefc704d915",
   "metadata": {},
   "source": [
    "**Conclusion:** *The lifestyle of a person has a decent impact on the risk of having a heart disease. With sleep time and physical activity having a much noticable and reasonable impact.*"
   ]
  },
  {
   "cell_type": "markdown",
   "id": "486794e2-5270-4916-a458-9ff952fb0f4d",
   "metadata": {},
   "source": [
    "### Health\n",
    "In this section we will see how much of an impact the health of a person has on the risk of having a heart disease."
   ]
  },
  {
   "cell_type": "code",
   "execution_count": 11,
   "id": "8985a3f8-13ee-455f-a81b-8201ab73594e",
   "metadata": {},
   "outputs": [
    {
     "data": {
      "text/plain": [
       "<AxesSubplot:xlabel='HeartDisease', ylabel='Percent'>"
      ]
     },
     "execution_count": 11,
     "metadata": {},
     "output_type": "execute_result"
    },
    {
     "data": {
      "image/png": "[encoded data removed]",
      "text/plain": [
       "<Figure size 1440x360 with 3 Axes>"
      ]
     },
     "metadata": {
      "needs_background": "light"
     },
     "output_type": "display_data"
    }
   ],
   "source": [
    "# ploting the impact of BMI (Body Mass Index)\n",
    "fig, axs = plt.subplots(ncols=3, figsize=(20, 5))\n",
    "bmi = pd.cut(x=data['BMI'], bins=[0, 18.5, 25, 30, 99], labels=['Underweight', 'Normal range', 'Overweight', 'Obese'])\n",
    "sns.countplot(x=bmi, data=data, ax=axs[0])\n",
    "sns.barplot(x=bmi, y='HeartDisease', data=data, ax=axs[1])\n",
    "sns.histplot(\n",
    "    data=data,\n",
    "    x=\"HeartDisease\",\n",
    "    stat=\"percent\",\n",
    "    hue=bmi,\n",
    "    multiple=\"fill\",\n",
    "    discrete=True,\n",
    "    ax=axs[2]\n",
    ")"
   ]
  },
  {
   "cell_type": "markdown",
   "id": "92e583c1-d9ab-4ac7-83ac-fce91a82c7b6",
   "metadata": {},
   "source": [
    "*We can see from the graphs above that the BMI has a decent influence on the heart disease risk. People with normal BMI have the lowest percentage of heart disease, while people with abnormal BMI have a higher percentage, especially with a higher BMI than recommended.*"
   ]
  },
  {
   "cell_type": "code",
   "execution_count": 12,
   "id": "94e67fdc-ad5b-4553-aa88-1df226500cfd",
   "metadata": {},
   "outputs": [
    {
     "name": "stdout",
     "output_type": "stream",
     "text": [
      "Processed data:\n",
      "   Value  HeartDisease            Type  HeartDisease%\n",
      "0    1.0      0.022441       GenHealth       2.244098\n",
      "1    2.0      0.047261       GenHealth       4.726062\n",
      "2    3.0      0.102632       GenHealth      10.263183\n",
      "3    4.0      0.204285       GenHealth      20.428526\n",
      "4    5.0      0.341040       GenHealth      34.103995\n",
      "5    1.0      0.062985     DiffWalking       6.298455\n",
      "6    5.0      0.225805     DiffWalking      22.580500\n",
      "7    1.0      0.069928  PhysicalHealth       6.992786\n",
      "8    2.0      0.107921  PhysicalHealth      10.792132\n",
      "9    3.0      0.131101  PhysicalHealth      13.110148 \n",
      "\n"
     ]
    },
    {
     "data": {
      "text/plain": [
       "<AxesSubplot:xlabel='Value', ylabel='HeartDisease%'>"
      ]
     },
     "execution_count": 12,
     "metadata": {},
     "output_type": "execute_result"
    },
    {
     "data": {
      "image/png": "[encoded data removed]",
      "text/plain": [
       "<Figure size 1440x720 with 1 Axes>"
      ]
     },
     "metadata": {
      "needs_background": "light"
     },
     "output_type": "display_data"
    }
   ],
   "source": [
    "# making the data numerical\n",
    "data[\"GenHealth\"].replace({\"Excellent\": 1, \"Very good\": 2, \"Good\": 3, \"Fair\": 4, \"Poor\": 5}, inplace=True)\n",
    "data[\"DiffWalking\"].replace({\"Yes\": 5, \"No\": 1}, inplace=True)\n",
    "data['PhysicalHealth'] = pd.cut(x=data['PhysicalHealth'], bins=[0, 2, 5, 10, 20, 30], labels=['Excellent', 'Very good', 'Good', 'Fair', 'Poor'])\n",
    "data['MentalHealth'] = pd.cut(x=data['MentalHealth'], bins=[0, 2, 5, 10, 20, 30], labels=['Excellent', 'Very good', 'Good', 'Fair', 'Poor'])\n",
    "data[\"PhysicalHealth\"].replace({\"Excellent\": 1, \"Very good\": 2, \"Good\": 3, \"Fair\": 4, \"Poor\": 5}, inplace=True)\n",
    "data[\"MentalHealth\"].replace({\"Excellent\": 1, \"Very good\": 2, \"Good\": 3, \"Fair\": 4, \"Poor\": 5}, inplace=True)\n",
    "\n",
    "# grouping the data and calucating the mean\n",
    "ghData = data.groupby('GenHealth',as_index=False).HeartDisease.mean()\n",
    "ghData['Type'] = 'GenHealth'\n",
    "ghData['Value'] = ghData['GenHealth']\n",
    "ghData.drop(['GenHealth'], axis=1, inplace=True)\n",
    "\n",
    "dwData = data.groupby('DiffWalking',as_index=False).HeartDisease.mean()\n",
    "dwData['Type'] = 'DiffWalking'\n",
    "dwData['Value'] = dwData['DiffWalking']\n",
    "dwData.drop(['DiffWalking'], axis=1, inplace=True)\n",
    "\n",
    "phData = data.groupby('PhysicalHealth',as_index=False).HeartDisease.mean()\n",
    "phData['Type'] = 'PhysicalHealth'\n",
    "phData['Value'] = phData['PhysicalHealth']\n",
    "phData.drop(['PhysicalHealth'], axis=1, inplace=True)\n",
    "\n",
    "mhData = data.groupby('MentalHealth',as_index=False).HeartDisease.mean()\n",
    "mhData['Type'] = 'MentalHealth'\n",
    "mhData['Value'] = mhData['MentalHealth']\n",
    "mhData.drop(['MentalHealth'], axis=1, inplace=True)\n",
    "\n",
    "# appending the data to one data frame to plot it with hue using seaborn\n",
    "h_df = pd.DataFrame({\"Value\":[], \"HeartDisease\": [], \"Type\": []})\n",
    "h_df = h_df.append(ghData, ignore_index=True)\n",
    "h_df = h_df.append(dwData, ignore_index=True)\n",
    "h_df = h_df.append(phData, ignore_index=True)\n",
    "h_df = h_df.append(mhData, ignore_index=True)\n",
    "h_df['HeartDisease%'] = h_df['HeartDisease'] * 100\n",
    "print(\"Processed data:\")\n",
    "print(h_df.head(10), \"\\n\")\n",
    "\n",
    "# ploting the data\n",
    "fig, ax = plt.subplots(figsize=(20, 10))\n",
    "sns.lineplot(x='Value', y='HeartDisease%', hue='Type', marker=\"o\", ax=ax, data=h_df)"
   ]
  },
  {
   "cell_type": "markdown",
   "id": "8a44e7b1-13b7-444c-baf3-acc514352a7b",
   "metadata": {},
   "source": [
    "*In the code above I calculated the mean of the health disease values for each health related feature and multiplied that value by 100. By doing this, I now have a percentage of people that have a heart disease based on the value of that health related feature. The data was preprocessed in a way that 1 is the best value and 5 is the worst. As we can see from the graph, for each feature as the values get worst the percentage of having a heart disease grows. General healty however has the bigest impact on the percentage as the values get worst.* "
   ]
  },
  {
   "cell_type": "markdown",
   "id": "2c4374bc-259d-4c94-869a-23c83f525374",
   "metadata": {},
   "source": [
    "### Disease\n",
    "In this section we will see how much of an impact do other diseases have on the risk of having a heart disease."
   ]
  },
  {
   "cell_type": "code",
   "execution_count": 13,
   "id": "35a2d273-84a5-4fa8-ba37-fced2e0cba1b",
   "metadata": {},
   "outputs": [
    {
     "data": {
      "image/png": "[encoded data removed]",
      "text/plain": [
       "<Figure size 1440x720 with 5 Axes>"
      ]
     },
     "metadata": {
      "needs_background": "light"
     },
     "output_type": "display_data"
    }
   ],
   "source": [
    "fig, axs = plt.subplots(nrows=2, ncols=3, figsize=(20, 10))\n",
    "sns.barplot(x='Stroke', y='HeartDisease', data=data, ax=axs[0, 0])\n",
    "sns.barplot(x='SkinCancer', y='HeartDisease', data=data, ax=axs[0, 1])\n",
    "diabeticChart = sns.barplot(x='Diabetic', y='HeartDisease', data=data, ax=axs[0, 2])\n",
    "diabeticChart.set_xticklabels(diabeticChart.get_xticklabels(), rotation=-45)\n",
    "sns.barplot(x='KidneyDisease', y='HeartDisease', data=data, ax=axs[1, 0])\n",
    "sns.barplot(x='Asthma', y='HeartDisease', data=data, ax=axs[1, 1])\n",
    "fig.delaxes(axs[1][2])"
   ]
  },
  {
   "cell_type": "markdown",
   "id": "86909f57-6a3d-4d30-a189-74a1bbcdbc1f",
   "metadata": {},
   "source": [
    "*The graphs above show the rate of heart disease amoung people with or without a particular disease. We can see from the graphs that having any of the diseases shown above you have a greated chance of having a heart disease. Among all diseases the Stroke and KidneyDisease have the biggest impact on the rate of heart disease. With that being said it would be interesting to see how combining these two diseases would influence the rate of heart disease.*"
   ]
  },
  {
   "cell_type": "code",
   "execution_count": 14,
   "id": "8321684d-e58d-4b89-83a7-9e8171cbe081",
   "metadata": {},
   "outputs": [
    {
     "name": "stdout",
     "output_type": "stream",
     "text": [
      "HeartDisease Stroke/KidneyDisease  HeartDisease%\n",
      "0                           No/No       6.833693\n",
      "1                          No/Yes      25.835925\n",
      "2                          Yes/No      33.957270\n",
      "3                         Yes/Yes      53.454058 \n",
      "\n"
     ]
    },
    {
     "data": {
      "image/png": "[encoded data removed]",
      "text/plain": [
       "<Figure size 432x288 with 1 Axes>"
      ]
     },
     "metadata": {
      "needs_background": "light"
     },
     "output_type": "display_data"
    }
   ],
   "source": [
    "# grouping the data and ploting it\n",
    "sk_data = groupData(data, 'Stroke', 'KidneyDisease')\n",
    "sns.barplot(x='HeartDisease%', y='Stroke/KidneyDisease', data=sk_data)\n",
    "print(sk_data, '\\n')"
   ]
  },
  {
   "cell_type": "markdown",
   "id": "2abd5f58-8723-4964-a771-02cdd3c557a0",
   "metadata": {},
   "source": [
    "*From the above graph we can see that over 50% of people that have both diseases have a heart disease.*"
   ]
  },
  {
   "cell_type": "markdown",
   "id": "0aa61ee1-8f4d-4cc4-8b79-7e153e8b3792",
   "metadata": {},
   "source": [
    "## Preprocessing the data\n",
    "In the above sections we visualized the data and saw the impact that the features make, in this section I will be preparing the data so that it can be used in sklearns logistic regression and random forest.\n",
    "\n",
    "P.S. This process can be easly done using the sklearns preprocessing library, however I decided to do it on my own."
   ]
  },
  {
   "cell_type": "code",
   "execution_count": 15,
   "id": "b2fd3203-2940-41cd-a041-9bf188c0c816",
   "metadata": {},
   "outputs": [
    {
     "data": {
      "text/html": [
       "<div>\n",
       "<style scoped>\n",
       "    .dataframe tbody tr th:only-of-type {\n",
       "        vertical-align: middle;\n",
       "    }\n",
       "\n",
       "    .dataframe tbody tr th {\n",
       "        vertical-align: top;\n",
       "    }\n",
       "\n",
       "    .dataframe thead th {\n",
       "        text-align: right;\n",
       "    }\n",
       "</style>\n",
       "<table border=\"1\" class=\"dataframe\">\n",
       "  <thead>\n",
       "    <tr style=\"text-align: right;\">\n",
       "      <th></th>\n",
       "      <th>HeartDisease</th>\n",
       "      <th>BMI</th>\n",
       "      <th>Smoking</th>\n",
       "      <th>AlcoholDrinking</th>\n",
       "      <th>Stroke</th>\n",
       "      <th>PhysicalHealth</th>\n",
       "      <th>MentalHealth</th>\n",
       "      <th>DiffWalking</th>\n",
       "      <th>Sex</th>\n",
       "      <th>AgeCategory</th>\n",
       "      <th>Race</th>\n",
       "      <th>Diabetic</th>\n",
       "      <th>PhysicalActivity</th>\n",
       "      <th>GenHealth</th>\n",
       "      <th>SleepTime</th>\n",
       "      <th>Asthma</th>\n",
       "      <th>KidneyDisease</th>\n",
       "      <th>SkinCancer</th>\n",
       "    </tr>\n",
       "  </thead>\n",
       "  <tbody>\n",
       "    <tr>\n",
       "      <th>0</th>\n",
       "      <td>No</td>\n",
       "      <td>16.60</td>\n",
       "      <td>Yes</td>\n",
       "      <td>No</td>\n",
       "      <td>No</td>\n",
       "      <td>3.0</td>\n",
       "      <td>30.0</td>\n",
       "      <td>No</td>\n",
       "      <td>Female</td>\n",
       "      <td>55-59</td>\n",
       "      <td>White</td>\n",
       "      <td>Yes</td>\n",
       "      <td>Yes</td>\n",
       "      <td>Very good</td>\n",
       "      <td>5.0</td>\n",
       "      <td>Yes</td>\n",
       "      <td>No</td>\n",
       "      <td>Yes</td>\n",
       "    </tr>\n",
       "    <tr>\n",
       "      <th>1</th>\n",
       "      <td>No</td>\n",
       "      <td>20.34</td>\n",
       "      <td>No</td>\n",
       "      <td>No</td>\n",
       "      <td>Yes</td>\n",
       "      <td>0.0</td>\n",
       "      <td>0.0</td>\n",
       "      <td>No</td>\n",
       "      <td>Female</td>\n",
       "      <td>80 or older</td>\n",
       "      <td>White</td>\n",
       "      <td>No</td>\n",
       "      <td>Yes</td>\n",
       "      <td>Very good</td>\n",
       "      <td>7.0</td>\n",
       "      <td>No</td>\n",
       "      <td>No</td>\n",
       "      <td>No</td>\n",
       "    </tr>\n",
       "    <tr>\n",
       "      <th>2</th>\n",
       "      <td>No</td>\n",
       "      <td>26.58</td>\n",
       "      <td>Yes</td>\n",
       "      <td>No</td>\n",
       "      <td>No</td>\n",
       "      <td>20.0</td>\n",
       "      <td>30.0</td>\n",
       "      <td>No</td>\n",
       "      <td>Male</td>\n",
       "      <td>65-69</td>\n",
       "      <td>White</td>\n",
       "      <td>Yes</td>\n",
       "      <td>Yes</td>\n",
       "      <td>Fair</td>\n",
       "      <td>8.0</td>\n",
       "      <td>Yes</td>\n",
       "      <td>No</td>\n",
       "      <td>No</td>\n",
       "    </tr>\n",
       "    <tr>\n",
       "      <th>3</th>\n",
       "      <td>No</td>\n",
       "      <td>24.21</td>\n",
       "      <td>No</td>\n",
       "      <td>No</td>\n",
       "      <td>No</td>\n",
       "      <td>0.0</td>\n",
       "      <td>0.0</td>\n",
       "      <td>No</td>\n",
       "      <td>Female</td>\n",
       "      <td>75-79</td>\n",
       "      <td>White</td>\n",
       "      <td>No</td>\n",
       "      <td>No</td>\n",
       "      <td>Good</td>\n",
       "      <td>6.0</td>\n",
       "      <td>No</td>\n",
       "      <td>No</td>\n",
       "      <td>Yes</td>\n",
       "    </tr>\n",
       "    <tr>\n",
       "      <th>4</th>\n",
       "      <td>No</td>\n",
       "      <td>23.71</td>\n",
       "      <td>No</td>\n",
       "      <td>No</td>\n",
       "      <td>No</td>\n",
       "      <td>28.0</td>\n",
       "      <td>0.0</td>\n",
       "      <td>Yes</td>\n",
       "      <td>Female</td>\n",
       "      <td>40-44</td>\n",
       "      <td>White</td>\n",
       "      <td>No</td>\n",
       "      <td>Yes</td>\n",
       "      <td>Very good</td>\n",
       "      <td>8.0</td>\n",
       "      <td>No</td>\n",
       "      <td>No</td>\n",
       "      <td>No</td>\n",
       "    </tr>\n",
       "  </tbody>\n",
       "</table>\n",
       "</div>"
      ],
      "text/plain": [
       "  HeartDisease    BMI Smoking AlcoholDrinking Stroke  PhysicalHealth  \\\n",
       "0           No  16.60     Yes              No     No             3.0   \n",
       "1           No  20.34      No              No    Yes             0.0   \n",
       "2           No  26.58     Yes              No     No            20.0   \n",
       "3           No  24.21      No              No     No             0.0   \n",
       "4           No  23.71      No              No     No            28.0   \n",
       "\n",
       "   MentalHealth DiffWalking     Sex  AgeCategory   Race Diabetic  \\\n",
       "0          30.0          No  Female        55-59  White      Yes   \n",
       "1           0.0          No  Female  80 or older  White       No   \n",
       "2          30.0          No    Male        65-69  White      Yes   \n",
       "3           0.0          No  Female        75-79  White       No   \n",
       "4           0.0         Yes  Female        40-44  White       No   \n",
       "\n",
       "  PhysicalActivity  GenHealth  SleepTime Asthma KidneyDisease SkinCancer  \n",
       "0              Yes  Very good        5.0    Yes            No        Yes  \n",
       "1              Yes  Very good        7.0     No            No         No  \n",
       "2              Yes       Fair        8.0    Yes            No         No  \n",
       "3               No       Good        6.0     No            No        Yes  \n",
       "4              Yes  Very good        8.0     No            No         No  "
      ]
     },
     "execution_count": 15,
     "metadata": {},
     "output_type": "execute_result"
    }
   ],
   "source": [
    "lr_data = hd_data\n",
    "lr_data.head()"
   ]
  },
  {
   "cell_type": "code",
   "execution_count": 16,
   "id": "0ab0c483-4f68-4684-bedd-a170f2335b49",
   "metadata": {},
   "outputs": [
    {
     "name": "stdout",
     "output_type": "stream",
     "text": [
      "<class 'pandas.core.frame.DataFrame'>\n",
      "RangeIndex: 319795 entries, 0 to 319794\n",
      "Data columns (total 18 columns):\n",
      " #   Column            Non-Null Count   Dtype  \n",
      "---  ------            --------------   -----  \n",
      " 0   HeartDisease      319795 non-null  object \n",
      " 1   BMI               319795 non-null  float64\n",
      " 2   Smoking           319795 non-null  object \n",
      " 3   AlcoholDrinking   319795 non-null  object \n",
      " 4   Stroke            319795 non-null  object \n",
      " 5   PhysicalHealth    319795 non-null  float64\n",
      " 6   MentalHealth      319795 non-null  float64\n",
      " 7   DiffWalking       319795 non-null  object \n",
      " 8   Sex               319795 non-null  object \n",
      " 9   AgeCategory       319795 non-null  object \n",
      " 10  Race              319795 non-null  object \n",
      " 11  Diabetic          319795 non-null  object \n",
      " 12  PhysicalActivity  319795 non-null  object \n",
      " 13  GenHealth         319795 non-null  object \n",
      " 14  SleepTime         319795 non-null  float64\n",
      " 15  Asthma            319795 non-null  object \n",
      " 16  KidneyDisease     319795 non-null  object \n",
      " 17  SkinCancer        319795 non-null  object \n",
      "dtypes: float64(4), object(14)\n",
      "memory usage: 43.9+ MB\n"
     ]
    }
   ],
   "source": [
    "lr_data.info()"
   ]
  },
  {
   "cell_type": "markdown",
   "id": "9364f245-203d-4c29-b9f6-223dd4cc1a90",
   "metadata": {},
   "source": [
    "*As we already seen there are no null values in the data, however there is a lot of features with object data type. These object are actually string values which can't be used in the two models that I will be using. With this being said I will have to convert the data into integer values.*"
   ]
  },
  {
   "cell_type": "code",
   "execution_count": 17,
   "id": "928afe35-09de-4c98-bfa4-3c44d7605db3",
   "metadata": {},
   "outputs": [
    {
     "name": "stdout",
     "output_type": "stream",
     "text": [
      "HeartDisease :  ['No' 'Yes']\n",
      "Smoking :  ['Yes' 'No']\n",
      "AlcoholDrinking :  ['No' 'Yes']\n",
      "Stroke :  ['No' 'Yes']\n",
      "DiffWalking :  ['No' 'Yes']\n",
      "Sex :  ['Female' 'Male']\n",
      "AgeCategory :  ['55-59' '80 or older' '65-69' '75-79' '40-44' '70-74' '60-64' '50-54'\n",
      " '45-49' '18-24' '35-39' '30-34' '25-29']\n",
      "Race :  ['White' 'Black' 'Asian' 'American Indian/Alaskan Native' 'Other'\n",
      " 'Hispanic']\n",
      "Diabetic :  ['Yes' 'No' 'No, borderline diabetes' 'Yes (during pregnancy)']\n",
      "PhysicalActivity :  ['Yes' 'No']\n",
      "GenHealth :  ['Very good' 'Fair' 'Good' 'Poor' 'Excellent']\n",
      "Asthma :  ['Yes' 'No']\n",
      "KidneyDisease :  ['No' 'Yes']\n",
      "SkinCancer :  ['Yes' 'No']\n"
     ]
    }
   ],
   "source": [
    "# Printing all unique values for each feature of tyep object\n",
    "for i in range(lr_data.shape[1]):\n",
    "    if lr_data.dtypes[lr_data.columns[i]] == \"object\":\n",
    "        print(lr_data.columns[i], \": \", lr_data.iloc[:,i].unique())"
   ]
  },
  {
   "cell_type": "markdown",
   "id": "d5007380-06ee-4c04-abb5-13968b28565b",
   "metadata": {},
   "source": [
    "*Now that I have the unique values I can convert them to interger values so that the models can work with them.*"
   ]
  },
  {
   "cell_type": "code",
   "execution_count": 18,
   "id": "cae93968-8858-4179-9814-8d3122be98a6",
   "metadata": {},
   "outputs": [
    {
     "data": {
      "text/html": [
       "<div>\n",
       "<style scoped>\n",
       "    .dataframe tbody tr th:only-of-type {\n",
       "        vertical-align: middle;\n",
       "    }\n",
       "\n",
       "    .dataframe tbody tr th {\n",
       "        vertical-align: top;\n",
       "    }\n",
       "\n",
       "    .dataframe thead th {\n",
       "        text-align: right;\n",
       "    }\n",
       "</style>\n",
       "<table border=\"1\" class=\"dataframe\">\n",
       "  <thead>\n",
       "    <tr style=\"text-align: right;\">\n",
       "      <th></th>\n",
       "      <th>HeartDisease</th>\n",
       "      <th>BMI</th>\n",
       "      <th>Smoking</th>\n",
       "      <th>AlcoholDrinking</th>\n",
       "      <th>Stroke</th>\n",
       "      <th>PhysicalHealth</th>\n",
       "      <th>MentalHealth</th>\n",
       "      <th>DiffWalking</th>\n",
       "      <th>Sex</th>\n",
       "      <th>AgeCategory</th>\n",
       "      <th>Race</th>\n",
       "      <th>Diabetic</th>\n",
       "      <th>PhysicalActivity</th>\n",
       "      <th>GenHealth</th>\n",
       "      <th>SleepTime</th>\n",
       "      <th>Asthma</th>\n",
       "      <th>KidneyDisease</th>\n",
       "      <th>SkinCancer</th>\n",
       "    </tr>\n",
       "  </thead>\n",
       "  <tbody>\n",
       "    <tr>\n",
       "      <th>0</th>\n",
       "      <td>0</td>\n",
       "      <td>16.60</td>\n",
       "      <td>1</td>\n",
       "      <td>0</td>\n",
       "      <td>0</td>\n",
       "      <td>3.0</td>\n",
       "      <td>30.0</td>\n",
       "      <td>0</td>\n",
       "      <td>0</td>\n",
       "      <td>8</td>\n",
       "      <td>1</td>\n",
       "      <td>1</td>\n",
       "      <td>1</td>\n",
       "      <td>2</td>\n",
       "      <td>5.0</td>\n",
       "      <td>1</td>\n",
       "      <td>0</td>\n",
       "      <td>1</td>\n",
       "    </tr>\n",
       "    <tr>\n",
       "      <th>1</th>\n",
       "      <td>0</td>\n",
       "      <td>20.34</td>\n",
       "      <td>0</td>\n",
       "      <td>0</td>\n",
       "      <td>1</td>\n",
       "      <td>0.0</td>\n",
       "      <td>0.0</td>\n",
       "      <td>0</td>\n",
       "      <td>0</td>\n",
       "      <td>13</td>\n",
       "      <td>1</td>\n",
       "      <td>0</td>\n",
       "      <td>1</td>\n",
       "      <td>2</td>\n",
       "      <td>7.0</td>\n",
       "      <td>0</td>\n",
       "      <td>0</td>\n",
       "      <td>0</td>\n",
       "    </tr>\n",
       "    <tr>\n",
       "      <th>2</th>\n",
       "      <td>0</td>\n",
       "      <td>26.58</td>\n",
       "      <td>1</td>\n",
       "      <td>0</td>\n",
       "      <td>0</td>\n",
       "      <td>20.0</td>\n",
       "      <td>30.0</td>\n",
       "      <td>0</td>\n",
       "      <td>1</td>\n",
       "      <td>10</td>\n",
       "      <td>1</td>\n",
       "      <td>1</td>\n",
       "      <td>1</td>\n",
       "      <td>4</td>\n",
       "      <td>8.0</td>\n",
       "      <td>1</td>\n",
       "      <td>0</td>\n",
       "      <td>0</td>\n",
       "    </tr>\n",
       "    <tr>\n",
       "      <th>3</th>\n",
       "      <td>0</td>\n",
       "      <td>24.21</td>\n",
       "      <td>0</td>\n",
       "      <td>0</td>\n",
       "      <td>0</td>\n",
       "      <td>0.0</td>\n",
       "      <td>0.0</td>\n",
       "      <td>0</td>\n",
       "      <td>0</td>\n",
       "      <td>12</td>\n",
       "      <td>1</td>\n",
       "      <td>0</td>\n",
       "      <td>0</td>\n",
       "      <td>3</td>\n",
       "      <td>6.0</td>\n",
       "      <td>0</td>\n",
       "      <td>0</td>\n",
       "      <td>1</td>\n",
       "    </tr>\n",
       "    <tr>\n",
       "      <th>4</th>\n",
       "      <td>0</td>\n",
       "      <td>23.71</td>\n",
       "      <td>0</td>\n",
       "      <td>0</td>\n",
       "      <td>0</td>\n",
       "      <td>28.0</td>\n",
       "      <td>0.0</td>\n",
       "      <td>1</td>\n",
       "      <td>0</td>\n",
       "      <td>5</td>\n",
       "      <td>1</td>\n",
       "      <td>0</td>\n",
       "      <td>1</td>\n",
       "      <td>2</td>\n",
       "      <td>8.0</td>\n",
       "      <td>0</td>\n",
       "      <td>0</td>\n",
       "      <td>0</td>\n",
       "    </tr>\n",
       "  </tbody>\n",
       "</table>\n",
       "</div>"
      ],
      "text/plain": [
       "   HeartDisease    BMI  Smoking  AlcoholDrinking  Stroke  PhysicalHealth  \\\n",
       "0             0  16.60        1                0       0             3.0   \n",
       "1             0  20.34        0                0       1             0.0   \n",
       "2             0  26.58        1                0       0            20.0   \n",
       "3             0  24.21        0                0       0             0.0   \n",
       "4             0  23.71        0                0       0            28.0   \n",
       "\n",
       "   MentalHealth  DiffWalking  Sex  AgeCategory  Race  Diabetic  \\\n",
       "0          30.0            0    0            8     1         1   \n",
       "1           0.0            0    0           13     1         0   \n",
       "2          30.0            0    1           10     1         1   \n",
       "3           0.0            0    0           12     1         0   \n",
       "4           0.0            1    0            5     1         0   \n",
       "\n",
       "   PhysicalActivity  GenHealth  SleepTime  Asthma  KidneyDisease  SkinCancer  \n",
       "0                 1          2        5.0       1              0           1  \n",
       "1                 1          2        7.0       0              0           0  \n",
       "2                 1          4        8.0       1              0           0  \n",
       "3                 0          3        6.0       0              0           1  \n",
       "4                 1          2        8.0       0              0           0  "
      ]
     },
     "execution_count": 18,
     "metadata": {},
     "output_type": "execute_result"
    }
   ],
   "source": [
    "# Sex\n",
    "lr_data[\"Sex\"].replace({\"Male\": 1, \"Female\": 0}, inplace=True)\n",
    "\n",
    "# AgeCategory\n",
    "lr_data[\"AgeCategory\"].replace(\n",
    "    {\"18-24\": 1, \"25-29\": 2, \"30-34\": 3, \"35-39\": 4, \"40-44\": 5, \"45-49\": 6, \"50-54\": 7, \"55-59\": 8, \"60-64\": 9, \"65-69\": 10, \"70-74\": 11, \"75-79\": 12, \"80 or older\": 13}\n",
    "    , inplace=True)\n",
    "\n",
    "# Race\n",
    "lr_data[\"Race\"].replace({\"White\": 1, \"Black\": 2, \"Asian\": 3, \"American Indian/Alaskan Native\": 4, \"Hispanic\": 5, \"Other\": 6}, inplace=True)\n",
    "\n",
    "# Diabetic\n",
    "lr_data[\"Diabetic\"].replace({\"No\": 0, \"Yes\": 1, \"No, borderline diabetes\": 2, \"Yes (during pregnancy)\": 3}, inplace=True)\n",
    "\n",
    "# GenHealth\n",
    "lr_data[\"GenHealth\"].replace({\"Excellent\": 1, \"Very good\": 2, \"Good\": 3, \"Fair\": 4, \"Poor\": 5}, inplace=True)\n",
    "\n",
    "# Replace 'Yes' and 'No' with 1 and 0\n",
    "lr_data.replace({\"Yes\": 1, \"No\": 0}, inplace=True)\n",
    "\n",
    "lr_data.head()"
   ]
  },
  {
   "cell_type": "code",
   "execution_count": 19,
   "id": "9d9f4eab-9714-4949-a69c-a63c7207825f",
   "metadata": {},
   "outputs": [
    {
     "name": "stdout",
     "output_type": "stream",
     "text": [
      "<class 'pandas.core.frame.DataFrame'>\n",
      "RangeIndex: 319795 entries, 0 to 319794\n",
      "Data columns (total 18 columns):\n",
      " #   Column            Non-Null Count   Dtype  \n",
      "---  ------            --------------   -----  \n",
      " 0   HeartDisease      319795 non-null  int64  \n",
      " 1   BMI               319795 non-null  float64\n",
      " 2   Smoking           319795 non-null  int64  \n",
      " 3   AlcoholDrinking   319795 non-null  int64  \n",
      " 4   Stroke            319795 non-null  int64  \n",
      " 5   PhysicalHealth    319795 non-null  float64\n",
      " 6   MentalHealth      319795 non-null  float64\n",
      " 7   DiffWalking       319795 non-null  int64  \n",
      " 8   Sex               319795 non-null  int64  \n",
      " 9   AgeCategory       319795 non-null  int64  \n",
      " 10  Race              319795 non-null  int64  \n",
      " 11  Diabetic          319795 non-null  int64  \n",
      " 12  PhysicalActivity  319795 non-null  int64  \n",
      " 13  GenHealth         319795 non-null  int64  \n",
      " 14  SleepTime         319795 non-null  float64\n",
      " 15  Asthma            319795 non-null  int64  \n",
      " 16  KidneyDisease     319795 non-null  int64  \n",
      " 17  SkinCancer        319795 non-null  int64  \n",
      "dtypes: float64(4), int64(14)\n",
      "memory usage: 43.9 MB\n"
     ]
    }
   ],
   "source": [
    "lr_data.info()"
   ]
  },
  {
   "cell_type": "markdown",
   "id": "b8389c04-007a-4984-92ae-4741491fe040",
   "metadata": {},
   "source": [
    "*We can see that now we have no fetures with object data type, all the features are either interger of float values. This data can now be used by the models, however before using the data I will normalize the data so that each feature impacts the prediction equaly.*"
   ]
  },
  {
   "cell_type": "code",
   "execution_count": 20,
   "id": "90a721ce-8b67-47b4-961c-103938c7381b",
   "metadata": {},
   "outputs": [
    {
     "data": {
      "text/html": [
       "<div>\n",
       "<style scoped>\n",
       "    .dataframe tbody tr th:only-of-type {\n",
       "        vertical-align: middle;\n",
       "    }\n",
       "\n",
       "    .dataframe tbody tr th {\n",
       "        vertical-align: top;\n",
       "    }\n",
       "\n",
       "    .dataframe thead th {\n",
       "        text-align: right;\n",
       "    }\n",
       "</style>\n",
       "<table border=\"1\" class=\"dataframe\">\n",
       "  <thead>\n",
       "    <tr style=\"text-align: right;\">\n",
       "      <th></th>\n",
       "      <th>BMI</th>\n",
       "      <th>Smoking</th>\n",
       "      <th>AlcoholDrinking</th>\n",
       "      <th>Stroke</th>\n",
       "      <th>PhysicalHealth</th>\n",
       "      <th>MentalHealth</th>\n",
       "      <th>DiffWalking</th>\n",
       "      <th>Sex</th>\n",
       "      <th>AgeCategory</th>\n",
       "      <th>Race</th>\n",
       "      <th>Diabetic</th>\n",
       "      <th>PhysicalActivity</th>\n",
       "      <th>GenHealth</th>\n",
       "      <th>SleepTime</th>\n",
       "      <th>Asthma</th>\n",
       "      <th>KidneyDisease</th>\n",
       "      <th>SkinCancer</th>\n",
       "    </tr>\n",
       "  </thead>\n",
       "  <tbody>\n",
       "    <tr>\n",
       "      <th>0</th>\n",
       "      <td>16.60</td>\n",
       "      <td>1</td>\n",
       "      <td>0</td>\n",
       "      <td>0</td>\n",
       "      <td>3.0</td>\n",
       "      <td>30.0</td>\n",
       "      <td>0</td>\n",
       "      <td>0</td>\n",
       "      <td>8</td>\n",
       "      <td>1</td>\n",
       "      <td>1</td>\n",
       "      <td>1</td>\n",
       "      <td>2</td>\n",
       "      <td>5.0</td>\n",
       "      <td>1</td>\n",
       "      <td>0</td>\n",
       "      <td>1</td>\n",
       "    </tr>\n",
       "    <tr>\n",
       "      <th>1</th>\n",
       "      <td>20.34</td>\n",
       "      <td>0</td>\n",
       "      <td>0</td>\n",
       "      <td>1</td>\n",
       "      <td>0.0</td>\n",
       "      <td>0.0</td>\n",
       "      <td>0</td>\n",
       "      <td>0</td>\n",
       "      <td>13</td>\n",
       "      <td>1</td>\n",
       "      <td>0</td>\n",
       "      <td>1</td>\n",
       "      <td>2</td>\n",
       "      <td>7.0</td>\n",
       "      <td>0</td>\n",
       "      <td>0</td>\n",
       "      <td>0</td>\n",
       "    </tr>\n",
       "    <tr>\n",
       "      <th>2</th>\n",
       "      <td>26.58</td>\n",
       "      <td>1</td>\n",
       "      <td>0</td>\n",
       "      <td>0</td>\n",
       "      <td>20.0</td>\n",
       "      <td>30.0</td>\n",
       "      <td>0</td>\n",
       "      <td>1</td>\n",
       "      <td>10</td>\n",
       "      <td>1</td>\n",
       "      <td>1</td>\n",
       "      <td>1</td>\n",
       "      <td>4</td>\n",
       "      <td>8.0</td>\n",
       "      <td>1</td>\n",
       "      <td>0</td>\n",
       "      <td>0</td>\n",
       "    </tr>\n",
       "    <tr>\n",
       "      <th>3</th>\n",
       "      <td>24.21</td>\n",
       "      <td>0</td>\n",
       "      <td>0</td>\n",
       "      <td>0</td>\n",
       "      <td>0.0</td>\n",
       "      <td>0.0</td>\n",
       "      <td>0</td>\n",
       "      <td>0</td>\n",
       "      <td>12</td>\n",
       "      <td>1</td>\n",
       "      <td>0</td>\n",
       "      <td>0</td>\n",
       "      <td>3</td>\n",
       "      <td>6.0</td>\n",
       "      <td>0</td>\n",
       "      <td>0</td>\n",
       "      <td>1</td>\n",
       "    </tr>\n",
       "    <tr>\n",
       "      <th>4</th>\n",
       "      <td>23.71</td>\n",
       "      <td>0</td>\n",
       "      <td>0</td>\n",
       "      <td>0</td>\n",
       "      <td>28.0</td>\n",
       "      <td>0.0</td>\n",
       "      <td>1</td>\n",
       "      <td>0</td>\n",
       "      <td>5</td>\n",
       "      <td>1</td>\n",
       "      <td>0</td>\n",
       "      <td>1</td>\n",
       "      <td>2</td>\n",
       "      <td>8.0</td>\n",
       "      <td>0</td>\n",
       "      <td>0</td>\n",
       "      <td>0</td>\n",
       "    </tr>\n",
       "  </tbody>\n",
       "</table>\n",
       "</div>"
      ],
      "text/plain": [
       "     BMI  Smoking  AlcoholDrinking  Stroke  PhysicalHealth  MentalHealth  \\\n",
       "0  16.60        1                0       0             3.0          30.0   \n",
       "1  20.34        0                0       1             0.0           0.0   \n",
       "2  26.58        1                0       0            20.0          30.0   \n",
       "3  24.21        0                0       0             0.0           0.0   \n",
       "4  23.71        0                0       0            28.0           0.0   \n",
       "\n",
       "   DiffWalking  Sex  AgeCategory  Race  Diabetic  PhysicalActivity  GenHealth  \\\n",
       "0            0    0            8     1         1                 1          2   \n",
       "1            0    0           13     1         0                 1          2   \n",
       "2            0    1           10     1         1                 1          4   \n",
       "3            0    0           12     1         0                 0          3   \n",
       "4            1    0            5     1         0                 1          2   \n",
       "\n",
       "   SleepTime  Asthma  KidneyDisease  SkinCancer  \n",
       "0        5.0       1              0           1  \n",
       "1        7.0       0              0           0  \n",
       "2        8.0       1              0           0  \n",
       "3        6.0       0              0           1  \n",
       "4        8.0       0              0           0  "
      ]
     },
     "execution_count": 20,
     "metadata": {},
     "output_type": "execute_result"
    }
   ],
   "source": [
    "def getReadyData(df):\n",
    "    y = df[\"HeartDisease\"].values\n",
    "    X = df.drop([\"HeartDisease\"], axis = 1)\n",
    "\n",
    "    # Noramlization formula: x'=(x-xmin)/(xmax-xmin) \n",
    "    # X = (X - np.min(X))/(np.max(X) - np.min(X))\n",
    "    return y, X\n",
    "    \n",
    "\n",
    "y, X = getReadyData(lr_data)\n",
    "X.head()"
   ]
  },
  {
   "cell_type": "markdown",
   "id": "1cbc7bce-55aa-455f-9544-9a5d5868ee23",
   "metadata": {},
   "source": [
    "### Spliting data into training and test sets\n",
    "I am spliting the data into two sets, the training and the testing set. The ratio will be 0.7 to 0.3, that means 70% of the dataset will be used for training and 30% will be used for testing."
   ]
  },
  {
   "cell_type": "code",
   "execution_count": 21,
   "id": "4ccc5751-2b64-4a4b-a25c-9ecc7ab92b60",
   "metadata": {},
   "outputs": [],
   "source": [
    "X_train, X_test, y_train, y_test = train_test_split(X, y, test_size = 0.3, random_state = 21)"
   ]
  },
  {
   "cell_type": "markdown",
   "id": "e46b7eb4-2a8a-4952-93cf-2c316b9b0999",
   "metadata": {},
   "source": [
    "## Building the LogisticRegression model"
   ]
  },
  {
   "cell_type": "code",
   "execution_count": 22,
   "id": "bb26228e-b453-474b-9eb1-347c1a50b711",
   "metadata": {},
   "outputs": [
    {
     "data": {
      "text/html": [
       "<style>#sk-container-id-1 {color: black;background-color: white;}#sk-container-id-1 pre{padding: 0;}#sk-container-id-1 div.sk-toggleable {background-color: white;}#sk-container-id-1 label.sk-toggleable__label {cursor: pointer;display: block;width: 100%;margin-bottom: 0;padding: 0.3em;box-sizing: border-box;text-align: center;}#sk-container-id-1 label.sk-toggleable__label-arrow:before {content: \"▸\";float: left;margin-right: 0.25em;color: #696969;}#sk-container-id-1 label.sk-toggleable__label-arrow:hover:before {color: black;}#sk-container-id-1 div.sk-estimator:hover label.sk-toggleable__label-arrow:before {color: black;}#sk-container-id-1 div.sk-toggleable__content {max-height: 0;max-width: 0;overflow: hidden;text-align: left;background-color: #f0f8ff;}#sk-container-id-1 div.sk-toggleable__content pre {margin: 0.2em;color: black;border-radius: 0.25em;background-color: #f0f8ff;}#sk-container-id-1 input.sk-toggleable__control:checked~div.sk-toggleable__content {max-height: 200px;max-width: 100%;overflow: auto;}#sk-container-id-1 input.sk-toggleable__control:checked~label.sk-toggleable__label-arrow:before {content: \"▾\";}#sk-container-id-1 div.sk-estimator input.sk-toggleable__control:checked~label.sk-toggleable__label {background-color: #d4ebff;}#sk-container-id-1 div.sk-label input.sk-toggleable__control:checked~label.sk-toggleable__label {background-color: #d4ebff;}#sk-container-id-1 input.sk-hidden--visually {border: 0;clip: rect(1px 1px 1px 1px);clip: rect(1px, 1px, 1px, 1px);height: 1px;margin: -1px;overflow: hidden;padding: 0;position: absolute;width: 1px;}#sk-container-id-1 div.sk-estimator {font-family: monospace;background-color: #f0f8ff;border: 1px dotted black;border-radius: 0.25em;box-sizing: border-box;margin-bottom: 0.5em;}#sk-container-id-1 div.sk-estimator:hover {background-color: #d4ebff;}#sk-container-id-1 div.sk-parallel-item::after {content: \"\";width: 100%;border-bottom: 1px solid gray;flex-grow: 1;}#sk-container-id-1 div.sk-label:hover label.sk-toggleable__label {background-color: #d4ebff;}#sk-container-id-1 div.sk-serial::before {content: \"\";position: absolute;border-left: 1px solid gray;box-sizing: border-box;top: 0;bottom: 0;left: 50%;z-index: 0;}#sk-container-id-1 div.sk-serial {display: flex;flex-direction: column;align-items: center;background-color: white;padding-right: 0.2em;padding-left: 0.2em;position: relative;}#sk-container-id-1 div.sk-item {position: relative;z-index: 1;}#sk-container-id-1 div.sk-parallel {display: flex;align-items: stretch;justify-content: center;background-color: white;position: relative;}#sk-container-id-1 div.sk-item::before, #sk-container-id-1 div.sk-parallel-item::before {content: \"\";position: absolute;border-left: 1px solid gray;box-sizing: border-box;top: 0;bottom: 0;left: 50%;z-index: -1;}#sk-container-id-1 div.sk-parallel-item {display: flex;flex-direction: column;z-index: 1;position: relative;background-color: white;}#sk-container-id-1 div.sk-parallel-item:first-child::after {align-self: flex-end;width: 50%;}#sk-container-id-1 div.sk-parallel-item:last-child::after {align-self: flex-start;width: 50%;}#sk-container-id-1 div.sk-parallel-item:only-child::after {width: 0;}#sk-container-id-1 div.sk-dashed-wrapped {border: 1px dashed gray;margin: 0 0.4em 0.5em 0.4em;box-sizing: border-box;padding-bottom: 0.4em;background-color: white;}#sk-container-id-1 div.sk-label label {font-family: monospace;font-weight: bold;display: inline-block;line-height: 1.2em;}#sk-container-id-1 div.sk-label-container {text-align: center;}#sk-container-id-1 div.sk-container {/* jupyter's `normalize.less` sets `[hidden] { display: none; }` but bootstrap.min.css set `[hidden] { display: none !important; }` so we also need the `!important` here to be able to override the default hidden behavior on the sphinx rendered scikit-learn.org. See: https://github.com/scikit-learn/scikit-learn/issues/21755 */display: inline-block !important;position: relative;}#sk-container-id-1 div.sk-text-repr-fallback {display: none;}</style><div id=\"sk-container-id-1\" class=\"sk-top-container\"><div class=\"sk-text-repr-fallback\"><pre>LogisticRegression(max_iter=400, solver=&#x27;saga&#x27;)</pre><b>In a Jupyter environment, please rerun this cell to show the HTML representation or trust the notebook. <br />On GitHub, the HTML representation is unable to render, please try loading this page with nbviewer.org.</b></div><div class=\"sk-container\" hidden><div class=\"sk-item\"><div class=\"sk-estimator sk-toggleable\"><input class=\"sk-toggleable__control sk-hidden--visually\" id=\"sk-estimator-id-1\" type=\"checkbox\" checked><label for=\"sk-estimator-id-1\" class=\"sk-toggleable__label sk-toggleable__label-arrow\">LogisticRegression</label><div class=\"sk-toggleable__content\"><pre>LogisticRegression(max_iter=400, solver=&#x27;saga&#x27;)</pre></div></div></div></div></div>"
      ],
      "text/plain": [
       "LogisticRegression(max_iter=400, solver='saga')"
      ]
     },
     "execution_count": 22,
     "metadata": {},
     "output_type": "execute_result"
    }
   ],
   "source": [
    "model = LogisticRegression(solver='saga', max_iter=400)\n",
    "model.fit(X_train, y_train)"
   ]
  },
  {
   "cell_type": "code",
   "execution_count": 23,
   "id": "341f4b00-2a84-4b13-8fbc-33de3c344d67",
   "metadata": {},
   "outputs": [],
   "source": [
    "# function for ploting the confustion matrix and printing the report\n",
    "def plotMatrixWithReport(matrix, yt, yp):\n",
    "    sns.heatmap(matrix, annot=True, fmt=\"d\")\n",
    "    plt.title('Confusion Matrix')\n",
    "    plt.xlabel('Predicted')\n",
    "    plt.ylabel('True')\n",
    "    print(classification_report(yt, yp))\n",
    "    print(f1_score(yt, yp))\n",
    "    plt.show()"
   ]
  },
  {
   "cell_type": "code",
   "execution_count": 24,
   "id": "370b3917-1f68-4431-8f3e-ae16a926a9a9",
   "metadata": {},
   "outputs": [
    {
     "name": "stdout",
     "output_type": "stream",
     "text": [
      "              precision    recall  f1-score   support\n",
      "\n",
      "           0       0.92      0.99      0.96     87744\n",
      "           1       0.54      0.10      0.17      8195\n",
      "\n",
      "    accuracy                           0.92     95939\n",
      "   macro avg       0.73      0.55      0.56     95939\n",
      "weighted avg       0.89      0.92      0.89     95939\n",
      "\n",
      "0.17323640831370943\n"
     ]
    },
    {
     "data": {
      "image/png": "[encoded data removed]",
      "text/plain": [
       "<Figure size 432x288 with 2 Axes>"
      ]
     },
     "metadata": {
      "needs_background": "light"
     },
     "output_type": "display_data"
    }
   ],
   "source": [
    "# making a prediction\n",
    "y_pred = model.predict(X_test)\n",
    "\n",
    "matrix = confusion_matrix(y_test, y_pred)\n",
    "\n",
    "plotMatrixWithReport(matrix, y_test, y_pred)"
   ]
  },
  {
   "cell_type": "markdown",
   "id": "ee6afb8a-7973-41ae-b26c-c280a2619a6f",
   "metadata": {},
   "source": [
    "*We can see above that the accuracy is 92%, this is however very misleading. Due to our dataset having 91.4% of the outputs as 0, just by predicting that each person does't have a heart disease I would get around 90% accuracy (dependant on how data is split). What is more important to me is the recall and f1-score. The f1-score it is very bad, the same goes for the recall. The recall is more important than precision in this use case because it is worst to predict that someone does't have a heart disease when they do than the other way around (false negative). In the model above we can see that the model predicted that 7349 people don't have heart disease when they actually do.*\n",
    "\n",
    "***WHY?***\n",
    "*This happend due to the dataset being imbalanced. Luckily this can be fixed with undersampling. In the next seciton I am going to undersample the data and train a model with that data instead.*"
   ]
  },
  {
   "cell_type": "markdown",
   "id": "ef060996-d8d2-4e54-bd68-7fc54ee4bc34",
   "metadata": {},
   "source": [
    "### Undersampling the data"
   ]
  },
  {
   "cell_type": "code",
   "execution_count": 25,
   "id": "48e99bd4-bc93-4514-b520-f94258b57bf4",
   "metadata": {},
   "outputs": [
    {
     "data": {
      "text/plain": [
       "(19178, 18)"
      ]
     },
     "execution_count": 25,
     "metadata": {},
     "output_type": "execute_result"
    }
   ],
   "source": [
    "# Getting the datapoints with the label of 1 from the train dataset\n",
    "X_train.insert(loc=0, column=\"HeartDisease\", value=y_train)\n",
    "data = X_train[X_train['HeartDisease'] == 1].copy()\n",
    "data.shape"
   ]
  },
  {
   "cell_type": "code",
   "execution_count": 26,
   "id": "f59db9f3-9330-43e4-be7d-41ed4dc1dc3b",
   "metadata": {},
   "outputs": [
    {
     "name": "stdout",
     "output_type": "stream",
     "text": [
      "(47945, 18)\n"
     ]
    },
    {
     "data": {
      "text/plain": [
       "<AxesSubplot:xlabel='HeartDisease', ylabel='count'>"
      ]
     },
     "execution_count": 26,
     "metadata": {},
     "output_type": "execute_result"
    },
    {
     "data": {
      "image/png": "[encoded data removed]",
      "text/plain": [
       "<Figure size 432x288 with 1 Axes>"
      ]
     },
     "metadata": {
      "needs_background": "light"
     },
     "output_type": "display_data"
    }
   ],
   "source": [
    "# Appending the datapoints with the label of 0\n",
    "# However I am appending more data with 1 values to have a more realistic dataset\n",
    "data = data.append(X_train[X_train['HeartDisease'] == 0].copy().head(int(data.shape[0]*1.5)), ignore_index=True)\n",
    "print(data.shape)\n",
    "sns.countplot(x='HeartDisease', data=data)"
   ]
  },
  {
   "cell_type": "markdown",
   "id": "53ea8e6a-80ef-4ec9-9227-114a17a5660f",
   "metadata": {},
   "source": [
    "*Now the data is much more balanced then it was before.*"
   ]
  },
  {
   "cell_type": "code",
   "execution_count": 27,
   "id": "608d9d49-67b0-485d-9a91-5c4d7a582c39",
   "metadata": {},
   "outputs": [
    {
     "data": {
      "text/html": [
       "<div>\n",
       "<style scoped>\n",
       "    .dataframe tbody tr th:only-of-type {\n",
       "        vertical-align: middle;\n",
       "    }\n",
       "\n",
       "    .dataframe tbody tr th {\n",
       "        vertical-align: top;\n",
       "    }\n",
       "\n",
       "    .dataframe thead th {\n",
       "        text-align: right;\n",
       "    }\n",
       "</style>\n",
       "<table border=\"1\" class=\"dataframe\">\n",
       "  <thead>\n",
       "    <tr style=\"text-align: right;\">\n",
       "      <th></th>\n",
       "      <th>BMI</th>\n",
       "      <th>Smoking</th>\n",
       "      <th>AlcoholDrinking</th>\n",
       "      <th>Stroke</th>\n",
       "      <th>PhysicalHealth</th>\n",
       "      <th>MentalHealth</th>\n",
       "      <th>DiffWalking</th>\n",
       "      <th>Sex</th>\n",
       "      <th>AgeCategory</th>\n",
       "      <th>Race</th>\n",
       "      <th>Diabetic</th>\n",
       "      <th>PhysicalActivity</th>\n",
       "      <th>GenHealth</th>\n",
       "      <th>SleepTime</th>\n",
       "      <th>Asthma</th>\n",
       "      <th>KidneyDisease</th>\n",
       "      <th>SkinCancer</th>\n",
       "    </tr>\n",
       "  </thead>\n",
       "  <tbody>\n",
       "    <tr>\n",
       "      <th>0</th>\n",
       "      <td>24.03</td>\n",
       "      <td>1</td>\n",
       "      <td>0</td>\n",
       "      <td>1</td>\n",
       "      <td>10.0</td>\n",
       "      <td>0.0</td>\n",
       "      <td>1</td>\n",
       "      <td>0</td>\n",
       "      <td>11</td>\n",
       "      <td>1</td>\n",
       "      <td>0</td>\n",
       "      <td>1</td>\n",
       "      <td>4</td>\n",
       "      <td>9.0</td>\n",
       "      <td>1</td>\n",
       "      <td>0</td>\n",
       "      <td>0</td>\n",
       "    </tr>\n",
       "    <tr>\n",
       "      <th>1</th>\n",
       "      <td>24.41</td>\n",
       "      <td>0</td>\n",
       "      <td>0</td>\n",
       "      <td>0</td>\n",
       "      <td>0.0</td>\n",
       "      <td>0.0</td>\n",
       "      <td>0</td>\n",
       "      <td>1</td>\n",
       "      <td>8</td>\n",
       "      <td>1</td>\n",
       "      <td>0</td>\n",
       "      <td>1</td>\n",
       "      <td>2</td>\n",
       "      <td>7.0</td>\n",
       "      <td>1</td>\n",
       "      <td>0</td>\n",
       "      <td>0</td>\n",
       "    </tr>\n",
       "    <tr>\n",
       "      <th>2</th>\n",
       "      <td>33.67</td>\n",
       "      <td>1</td>\n",
       "      <td>0</td>\n",
       "      <td>0</td>\n",
       "      <td>0.0</td>\n",
       "      <td>0.0</td>\n",
       "      <td>0</td>\n",
       "      <td>1</td>\n",
       "      <td>10</td>\n",
       "      <td>6</td>\n",
       "      <td>1</td>\n",
       "      <td>1</td>\n",
       "      <td>3</td>\n",
       "      <td>7.0</td>\n",
       "      <td>0</td>\n",
       "      <td>0</td>\n",
       "      <td>0</td>\n",
       "    </tr>\n",
       "    <tr>\n",
       "      <th>3</th>\n",
       "      <td>26.63</td>\n",
       "      <td>1</td>\n",
       "      <td>0</td>\n",
       "      <td>0</td>\n",
       "      <td>20.0</td>\n",
       "      <td>10.0</td>\n",
       "      <td>0</td>\n",
       "      <td>1</td>\n",
       "      <td>9</td>\n",
       "      <td>1</td>\n",
       "      <td>0</td>\n",
       "      <td>1</td>\n",
       "      <td>3</td>\n",
       "      <td>7.0</td>\n",
       "      <td>0</td>\n",
       "      <td>0</td>\n",
       "      <td>0</td>\n",
       "    </tr>\n",
       "    <tr>\n",
       "      <th>4</th>\n",
       "      <td>30.02</td>\n",
       "      <td>1</td>\n",
       "      <td>0</td>\n",
       "      <td>0</td>\n",
       "      <td>0.0</td>\n",
       "      <td>0.0</td>\n",
       "      <td>1</td>\n",
       "      <td>1</td>\n",
       "      <td>11</td>\n",
       "      <td>5</td>\n",
       "      <td>1</td>\n",
       "      <td>0</td>\n",
       "      <td>5</td>\n",
       "      <td>4.0</td>\n",
       "      <td>0</td>\n",
       "      <td>1</td>\n",
       "      <td>0</td>\n",
       "    </tr>\n",
       "  </tbody>\n",
       "</table>\n",
       "</div>"
      ],
      "text/plain": [
       "     BMI  Smoking  AlcoholDrinking  Stroke  PhysicalHealth  MentalHealth  \\\n",
       "0  24.03        1                0       1            10.0           0.0   \n",
       "1  24.41        0                0       0             0.0           0.0   \n",
       "2  33.67        1                0       0             0.0           0.0   \n",
       "3  26.63        1                0       0            20.0          10.0   \n",
       "4  30.02        1                0       0             0.0           0.0   \n",
       "\n",
       "   DiffWalking  Sex  AgeCategory  Race  Diabetic  PhysicalActivity  GenHealth  \\\n",
       "0            1    0           11     1         0                 1          4   \n",
       "1            0    1            8     1         0                 1          2   \n",
       "2            0    1           10     6         1                 1          3   \n",
       "3            0    1            9     1         0                 1          3   \n",
       "4            1    1           11     5         1                 0          5   \n",
       "\n",
       "   SleepTime  Asthma  KidneyDisease  SkinCancer  \n",
       "0        9.0       1              0           0  \n",
       "1        7.0       1              0           0  \n",
       "2        7.0       0              0           0  \n",
       "3        7.0       0              0           0  \n",
       "4        4.0       0              1           0  "
      ]
     },
     "execution_count": 27,
     "metadata": {},
     "output_type": "execute_result"
    }
   ],
   "source": [
    "y, X = getReadyData(data)\n",
    "X.head()"
   ]
  },
  {
   "cell_type": "code",
   "execution_count": 28,
   "id": "39a58377-cacc-4c77-8afe-a2d5cb659796",
   "metadata": {},
   "outputs": [
    {
     "data": {
      "text/html": [
       "<style>#sk-container-id-2 {color: black;background-color: white;}#sk-container-id-2 pre{padding: 0;}#sk-container-id-2 div.sk-toggleable {background-color: white;}#sk-container-id-2 label.sk-toggleable__label {cursor: pointer;display: block;width: 100%;margin-bottom: 0;padding: 0.3em;box-sizing: border-box;text-align: center;}#sk-container-id-2 label.sk-toggleable__label-arrow:before {content: \"▸\";float: left;margin-right: 0.25em;color: #696969;}#sk-container-id-2 label.sk-toggleable__label-arrow:hover:before {color: black;}#sk-container-id-2 div.sk-estimator:hover label.sk-toggleable__label-arrow:before {color: black;}#sk-container-id-2 div.sk-toggleable__content {max-height: 0;max-width: 0;overflow: hidden;text-align: left;background-color: #f0f8ff;}#sk-container-id-2 div.sk-toggleable__content pre {margin: 0.2em;color: black;border-radius: 0.25em;background-color: #f0f8ff;}#sk-container-id-2 input.sk-toggleable__control:checked~div.sk-toggleable__content {max-height: 200px;max-width: 100%;overflow: auto;}#sk-container-id-2 input.sk-toggleable__control:checked~label.sk-toggleable__label-arrow:before {content: \"▾\";}#sk-container-id-2 div.sk-estimator input.sk-toggleable__control:checked~label.sk-toggleable__label {background-color: #d4ebff;}#sk-container-id-2 div.sk-label input.sk-toggleable__control:checked~label.sk-toggleable__label {background-color: #d4ebff;}#sk-container-id-2 input.sk-hidden--visually {border: 0;clip: rect(1px 1px 1px 1px);clip: rect(1px, 1px, 1px, 1px);height: 1px;margin: -1px;overflow: hidden;padding: 0;position: absolute;width: 1px;}#sk-container-id-2 div.sk-estimator {font-family: monospace;background-color: #f0f8ff;border: 1px dotted black;border-radius: 0.25em;box-sizing: border-box;margin-bottom: 0.5em;}#sk-container-id-2 div.sk-estimator:hover {background-color: #d4ebff;}#sk-container-id-2 div.sk-parallel-item::after {content: \"\";width: 100%;border-bottom: 1px solid gray;flex-grow: 1;}#sk-container-id-2 div.sk-label:hover label.sk-toggleable__label {background-color: #d4ebff;}#sk-container-id-2 div.sk-serial::before {content: \"\";position: absolute;border-left: 1px solid gray;box-sizing: border-box;top: 0;bottom: 0;left: 50%;z-index: 0;}#sk-container-id-2 div.sk-serial {display: flex;flex-direction: column;align-items: center;background-color: white;padding-right: 0.2em;padding-left: 0.2em;position: relative;}#sk-container-id-2 div.sk-item {position: relative;z-index: 1;}#sk-container-id-2 div.sk-parallel {display: flex;align-items: stretch;justify-content: center;background-color: white;position: relative;}#sk-container-id-2 div.sk-item::before, #sk-container-id-2 div.sk-parallel-item::before {content: \"\";position: absolute;border-left: 1px solid gray;box-sizing: border-box;top: 0;bottom: 0;left: 50%;z-index: -1;}#sk-container-id-2 div.sk-parallel-item {display: flex;flex-direction: column;z-index: 1;position: relative;background-color: white;}#sk-container-id-2 div.sk-parallel-item:first-child::after {align-self: flex-end;width: 50%;}#sk-container-id-2 div.sk-parallel-item:last-child::after {align-self: flex-start;width: 50%;}#sk-container-id-2 div.sk-parallel-item:only-child::after {width: 0;}#sk-container-id-2 div.sk-dashed-wrapped {border: 1px dashed gray;margin: 0 0.4em 0.5em 0.4em;box-sizing: border-box;padding-bottom: 0.4em;background-color: white;}#sk-container-id-2 div.sk-label label {font-family: monospace;font-weight: bold;display: inline-block;line-height: 1.2em;}#sk-container-id-2 div.sk-label-container {text-align: center;}#sk-container-id-2 div.sk-container {/* jupyter's `normalize.less` sets `[hidden] { display: none; }` but bootstrap.min.css set `[hidden] { display: none !important; }` so we also need the `!important` here to be able to override the default hidden behavior on the sphinx rendered scikit-learn.org. See: https://github.com/scikit-learn/scikit-learn/issues/21755 */display: inline-block !important;position: relative;}#sk-container-id-2 div.sk-text-repr-fallback {display: none;}</style><div id=\"sk-container-id-2\" class=\"sk-top-container\"><div class=\"sk-text-repr-fallback\"><pre>LogisticRegression(max_iter=400, solver=&#x27;saga&#x27;)</pre><b>In a Jupyter environment, please rerun this cell to show the HTML representation or trust the notebook. <br />On GitHub, the HTML representation is unable to render, please try loading this page with nbviewer.org.</b></div><div class=\"sk-container\" hidden><div class=\"sk-item\"><div class=\"sk-estimator sk-toggleable\"><input class=\"sk-toggleable__control sk-hidden--visually\" id=\"sk-estimator-id-2\" type=\"checkbox\" checked><label for=\"sk-estimator-id-2\" class=\"sk-toggleable__label sk-toggleable__label-arrow\">LogisticRegression</label><div class=\"sk-toggleable__content\"><pre>LogisticRegression(max_iter=400, solver=&#x27;saga&#x27;)</pre></div></div></div></div></div>"
      ],
      "text/plain": [
       "LogisticRegression(max_iter=400, solver='saga')"
      ]
     },
     "execution_count": 28,
     "metadata": {},
     "output_type": "execute_result"
    }
   ],
   "source": [
    "resamp_model = LogisticRegression(solver='saga', max_iter=400)\n",
    "resamp_model.fit(X, y)"
   ]
  },
  {
   "cell_type": "code",
   "execution_count": 29,
   "id": "9f65c2c5-0e26-4ebf-b0b4-43d4acc686d2",
   "metadata": {},
   "outputs": [
    {
     "name": "stdout",
     "output_type": "stream",
     "text": [
      "              precision    recall  f1-score   support\n",
      "\n",
      "           0       0.96      0.83      0.89     87744\n",
      "           1       0.27      0.67      0.38      8195\n",
      "\n",
      "    accuracy                           0.81     95939\n",
      "   macro avg       0.62      0.75      0.64     95939\n",
      "weighted avg       0.90      0.81      0.85     95939\n",
      "\n",
      "0.38126188418323254\n"
     ]
    },
    {
     "data": {
      "image/png": "[encoded data removed]",
      "text/plain": [
       "<Figure size 432x288 with 2 Axes>"
      ]
     },
     "metadata": {
      "needs_background": "light"
     },
     "output_type": "display_data"
    },
    {
     "name": "stdout",
     "output_type": "stream",
     "text": [
      "              precision    recall  f1-score   support\n",
      "\n",
      "           0       0.92      0.99      0.96     87744\n",
      "           1       0.54      0.10      0.17      8195\n",
      "\n",
      "    accuracy                           0.92     95939\n",
      "   macro avg       0.73      0.55      0.56     95939\n",
      "weighted avg       0.89      0.92      0.89     95939\n",
      "\n",
      "0.17323640831370943\n"
     ]
    },
    {
     "data": {
      "image/png": "[encoded data removed]",
      "text/plain": [
       "<Figure size 432x288 with 2 Axes>"
      ]
     },
     "metadata": {
      "needs_background": "light"
     },
     "output_type": "display_data"
    }
   ],
   "source": [
    "# making a prediction using the old test set\n",
    "resamp_y_pred = resamp_model.predict(X_test)\n",
    "\n",
    "resamp_matrix = confusion_matrix(y_test, resamp_y_pred)\n",
    "\n",
    "plotMatrixWithReport(resamp_matrix, y_test, resamp_y_pred)\n",
    "plotMatrixWithReport(matrix, y_test, y_pred)"
   ]
  },
  {
   "cell_type": "markdown",
   "id": "e9abc722-9a45-4350-9f64-ebc84dd01e48",
   "metadata": {},
   "source": [
    "*So, in this section I undersampled the data and trained the model on that data. There was no need to split the data due to me using the same testing data on both models so that we can directly compare them. Above there are two confusion matrices, the first one is from the undersampled data and the second one is from the first model. The model with the undersampled data had worst accuracy, however the recall and f1-score got better. This shows that the undersampling helped and the model that was trained on the undersampled data is much better at predicting the positive (1) outcome.*"
   ]
  },
  {
   "cell_type": "markdown",
   "id": "779ad0f4-bb53-424e-9e34-5280c12b446a",
   "metadata": {},
   "source": [
    "## Random Forest\n",
    "In this section I will be creating the random forest classifier. I will use the old sets that were split, both undersampled and the normal data so that I can compare the algorithm with itself and the previous algorithm."
   ]
  },
  {
   "cell_type": "code",
   "execution_count": 30,
   "id": "a7a55063-81b7-443c-8d61-83353be085e6",
   "metadata": {},
   "outputs": [
    {
     "data": {
      "text/html": [
       "<style>#sk-container-id-3 {color: black;background-color: white;}#sk-container-id-3 pre{padding: 0;}#sk-container-id-3 div.sk-toggleable {background-color: white;}#sk-container-id-3 label.sk-toggleable__label {cursor: pointer;display: block;width: 100%;margin-bottom: 0;padding: 0.3em;box-sizing: border-box;text-align: center;}#sk-container-id-3 label.sk-toggleable__label-arrow:before {content: \"▸\";float: left;margin-right: 0.25em;color: #696969;}#sk-container-id-3 label.sk-toggleable__label-arrow:hover:before {color: black;}#sk-container-id-3 div.sk-estimator:hover label.sk-toggleable__label-arrow:before {color: black;}#sk-container-id-3 div.sk-toggleable__content {max-height: 0;max-width: 0;overflow: hidden;text-align: left;background-color: #f0f8ff;}#sk-container-id-3 div.sk-toggleable__content pre {margin: 0.2em;color: black;border-radius: 0.25em;background-color: #f0f8ff;}#sk-container-id-3 input.sk-toggleable__control:checked~div.sk-toggleable__content {max-height: 200px;max-width: 100%;overflow: auto;}#sk-container-id-3 input.sk-toggleable__control:checked~label.sk-toggleable__label-arrow:before {content: \"▾\";}#sk-container-id-3 div.sk-estimator input.sk-toggleable__control:checked~label.sk-toggleable__label {background-color: #d4ebff;}#sk-container-id-3 div.sk-label input.sk-toggleable__control:checked~label.sk-toggleable__label {background-color: #d4ebff;}#sk-container-id-3 input.sk-hidden--visually {border: 0;clip: rect(1px 1px 1px 1px);clip: rect(1px, 1px, 1px, 1px);height: 1px;margin: -1px;overflow: hidden;padding: 0;position: absolute;width: 1px;}#sk-container-id-3 div.sk-estimator {font-family: monospace;background-color: #f0f8ff;border: 1px dotted black;border-radius: 0.25em;box-sizing: border-box;margin-bottom: 0.5em;}#sk-container-id-3 div.sk-estimator:hover {background-color: #d4ebff;}#sk-container-id-3 div.sk-parallel-item::after {content: \"\";width: 100%;border-bottom: 1px solid gray;flex-grow: 1;}#sk-container-id-3 div.sk-label:hover label.sk-toggleable__label {background-color: #d4ebff;}#sk-container-id-3 div.sk-serial::before {content: \"\";position: absolute;border-left: 1px solid gray;box-sizing: border-box;top: 0;bottom: 0;left: 50%;z-index: 0;}#sk-container-id-3 div.sk-serial {display: flex;flex-direction: column;align-items: center;background-color: white;padding-right: 0.2em;padding-left: 0.2em;position: relative;}#sk-container-id-3 div.sk-item {position: relative;z-index: 1;}#sk-container-id-3 div.sk-parallel {display: flex;align-items: stretch;justify-content: center;background-color: white;position: relative;}#sk-container-id-3 div.sk-item::before, #sk-container-id-3 div.sk-parallel-item::before {content: \"\";position: absolute;border-left: 1px solid gray;box-sizing: border-box;top: 0;bottom: 0;left: 50%;z-index: -1;}#sk-container-id-3 div.sk-parallel-item {display: flex;flex-direction: column;z-index: 1;position: relative;background-color: white;}#sk-container-id-3 div.sk-parallel-item:first-child::after {align-self: flex-end;width: 50%;}#sk-container-id-3 div.sk-parallel-item:last-child::after {align-self: flex-start;width: 50%;}#sk-container-id-3 div.sk-parallel-item:only-child::after {width: 0;}#sk-container-id-3 div.sk-dashed-wrapped {border: 1px dashed gray;margin: 0 0.4em 0.5em 0.4em;box-sizing: border-box;padding-bottom: 0.4em;background-color: white;}#sk-container-id-3 div.sk-label label {font-family: monospace;font-weight: bold;display: inline-block;line-height: 1.2em;}#sk-container-id-3 div.sk-label-container {text-align: center;}#sk-container-id-3 div.sk-container {/* jupyter's `normalize.less` sets `[hidden] { display: none; }` but bootstrap.min.css set `[hidden] { display: none !important; }` so we also need the `!important` here to be able to override the default hidden behavior on the sphinx rendered scikit-learn.org. See: https://github.com/scikit-learn/scikit-learn/issues/21755 */display: inline-block !important;position: relative;}#sk-container-id-3 div.sk-text-repr-fallback {display: none;}</style><div id=\"sk-container-id-3\" class=\"sk-top-container\"><div class=\"sk-text-repr-fallback\"><pre>RandomForestClassifier(criterion=&#x27;entropy&#x27;)</pre><b>In a Jupyter environment, please rerun this cell to show the HTML representation or trust the notebook. <br />On GitHub, the HTML representation is unable to render, please try loading this page with nbviewer.org.</b></div><div class=\"sk-container\" hidden><div class=\"sk-item\"><div class=\"sk-estimator sk-toggleable\"><input class=\"sk-toggleable__control sk-hidden--visually\" id=\"sk-estimator-id-3\" type=\"checkbox\" checked><label for=\"sk-estimator-id-3\" class=\"sk-toggleable__label sk-toggleable__label-arrow\">RandomForestClassifier</label><div class=\"sk-toggleable__content\"><pre>RandomForestClassifier(criterion=&#x27;entropy&#x27;)</pre></div></div></div></div></div>"
      ],
      "text/plain": [
       "RandomForestClassifier(criterion='entropy')"
      ]
     },
     "execution_count": 30,
     "metadata": {},
     "output_type": "execute_result"
    }
   ],
   "source": [
    "# preparing the train data\n",
    "X_train.drop(['HeartDisease'], axis=1, inplace=True)\n",
    "\n",
    "# instantiating the classifier and fitting the data\n",
    "rf_clf = RandomForestClassifier(criterion='entropy')\n",
    "rf_clf.fit(X_train, y_train)"
   ]
  },
  {
   "cell_type": "code",
   "execution_count": 31,
   "id": "119987e1-a417-4be6-adc3-4d3fd6a9298b",
   "metadata": {},
   "outputs": [
    {
     "name": "stdout",
     "output_type": "stream",
     "text": [
      "              precision    recall  f1-score   support\n",
      "\n",
      "           0       0.92      0.98      0.95     87744\n",
      "           1       0.35      0.12      0.18      8195\n",
      "\n",
      "    accuracy                           0.91     95939\n",
      "   macro avg       0.64      0.55      0.56     95939\n",
      "weighted avg       0.87      0.91      0.88     95939\n",
      "\n",
      "0.17708808763121864\n"
     ]
    },
    {
     "data": {
      "image/png": "[encoded data removed]",
      "text/plain": [
       "<Figure size 432x288 with 2 Axes>"
      ]
     },
     "metadata": {
      "needs_background": "light"
     },
     "output_type": "display_data"
    }
   ],
   "source": [
    "# making a prediction and ploting the matrix\n",
    "rf_y_pred = rf_clf.predict(X_test)\n",
    "rf_matrix = confusion_matrix(y_test,rf_y_pred)\n",
    "plotMatrixWithReport(rf_matrix, y_test, rf_y_pred)"
   ]
  },
  {
   "cell_type": "code",
   "execution_count": 32,
   "id": "094bc84e-a305-498c-bdc1-0c9228713b80",
   "metadata": {},
   "outputs": [
    {
     "data": {
      "text/html": [
       "<style>#sk-container-id-4 {color: black;background-color: white;}#sk-container-id-4 pre{padding: 0;}#sk-container-id-4 div.sk-toggleable {background-color: white;}#sk-container-id-4 label.sk-toggleable__label {cursor: pointer;display: block;width: 100%;margin-bottom: 0;padding: 0.3em;box-sizing: border-box;text-align: center;}#sk-container-id-4 label.sk-toggleable__label-arrow:before {content: \"▸\";float: left;margin-right: 0.25em;color: #696969;}#sk-container-id-4 label.sk-toggleable__label-arrow:hover:before {color: black;}#sk-container-id-4 div.sk-estimator:hover label.sk-toggleable__label-arrow:before {color: black;}#sk-container-id-4 div.sk-toggleable__content {max-height: 0;max-width: 0;overflow: hidden;text-align: left;background-color: #f0f8ff;}#sk-container-id-4 div.sk-toggleable__content pre {margin: 0.2em;color: black;border-radius: 0.25em;background-color: #f0f8ff;}#sk-container-id-4 input.sk-toggleable__control:checked~div.sk-toggleable__content {max-height: 200px;max-width: 100%;overflow: auto;}#sk-container-id-4 input.sk-toggleable__control:checked~label.sk-toggleable__label-arrow:before {content: \"▾\";}#sk-container-id-4 div.sk-estimator input.sk-toggleable__control:checked~label.sk-toggleable__label {background-color: #d4ebff;}#sk-container-id-4 div.sk-label input.sk-toggleable__control:checked~label.sk-toggleable__label {background-color: #d4ebff;}#sk-container-id-4 input.sk-hidden--visually {border: 0;clip: rect(1px 1px 1px 1px);clip: rect(1px, 1px, 1px, 1px);height: 1px;margin: -1px;overflow: hidden;padding: 0;position: absolute;width: 1px;}#sk-container-id-4 div.sk-estimator {font-family: monospace;background-color: #f0f8ff;border: 1px dotted black;border-radius: 0.25em;box-sizing: border-box;margin-bottom: 0.5em;}#sk-container-id-4 div.sk-estimator:hover {background-color: #d4ebff;}#sk-container-id-4 div.sk-parallel-item::after {content: \"\";width: 100%;border-bottom: 1px solid gray;flex-grow: 1;}#sk-container-id-4 div.sk-label:hover label.sk-toggleable__label {background-color: #d4ebff;}#sk-container-id-4 div.sk-serial::before {content: \"\";position: absolute;border-left: 1px solid gray;box-sizing: border-box;top: 0;bottom: 0;left: 50%;z-index: 0;}#sk-container-id-4 div.sk-serial {display: flex;flex-direction: column;align-items: center;background-color: white;padding-right: 0.2em;padding-left: 0.2em;position: relative;}#sk-container-id-4 div.sk-item {position: relative;z-index: 1;}#sk-container-id-4 div.sk-parallel {display: flex;align-items: stretch;justify-content: center;background-color: white;position: relative;}#sk-container-id-4 div.sk-item::before, #sk-container-id-4 div.sk-parallel-item::before {content: \"\";position: absolute;border-left: 1px solid gray;box-sizing: border-box;top: 0;bottom: 0;left: 50%;z-index: -1;}#sk-container-id-4 div.sk-parallel-item {display: flex;flex-direction: column;z-index: 1;position: relative;background-color: white;}#sk-container-id-4 div.sk-parallel-item:first-child::after {align-self: flex-end;width: 50%;}#sk-container-id-4 div.sk-parallel-item:last-child::after {align-self: flex-start;width: 50%;}#sk-container-id-4 div.sk-parallel-item:only-child::after {width: 0;}#sk-container-id-4 div.sk-dashed-wrapped {border: 1px dashed gray;margin: 0 0.4em 0.5em 0.4em;box-sizing: border-box;padding-bottom: 0.4em;background-color: white;}#sk-container-id-4 div.sk-label label {font-family: monospace;font-weight: bold;display: inline-block;line-height: 1.2em;}#sk-container-id-4 div.sk-label-container {text-align: center;}#sk-container-id-4 div.sk-container {/* jupyter's `normalize.less` sets `[hidden] { display: none; }` but bootstrap.min.css set `[hidden] { display: none !important; }` so we also need the `!important` here to be able to override the default hidden behavior on the sphinx rendered scikit-learn.org. See: https://github.com/scikit-learn/scikit-learn/issues/21755 */display: inline-block !important;position: relative;}#sk-container-id-4 div.sk-text-repr-fallback {display: none;}</style><div id=\"sk-container-id-4\" class=\"sk-top-container\"><div class=\"sk-text-repr-fallback\"><pre>RandomForestClassifier(criterion=&#x27;entropy&#x27;)</pre><b>In a Jupyter environment, please rerun this cell to show the HTML representation or trust the notebook. <br />On GitHub, the HTML representation is unable to render, please try loading this page with nbviewer.org.</b></div><div class=\"sk-container\" hidden><div class=\"sk-item\"><div class=\"sk-estimator sk-toggleable\"><input class=\"sk-toggleable__control sk-hidden--visually\" id=\"sk-estimator-id-4\" type=\"checkbox\" checked><label for=\"sk-estimator-id-4\" class=\"sk-toggleable__label sk-toggleable__label-arrow\">RandomForestClassifier</label><div class=\"sk-toggleable__content\"><pre>RandomForestClassifier(criterion=&#x27;entropy&#x27;)</pre></div></div></div></div></div>"
      ],
      "text/plain": [
       "RandomForestClassifier(criterion='entropy')"
      ]
     },
     "execution_count": 32,
     "metadata": {},
     "output_type": "execute_result"
    }
   ],
   "source": [
    "# instantiating the classifier and fitting the undersampled data\n",
    "us_rf_clf = RandomForestClassifier(criterion='entropy')\n",
    "us_rf_clf.fit(X, y)"
   ]
  },
  {
   "cell_type": "code",
   "execution_count": 33,
   "id": "946c8de5-2e62-4ac2-a225-51bd77a71c78",
   "metadata": {},
   "outputs": [
    {
     "name": "stdout",
     "output_type": "stream",
     "text": [
      "              precision    recall  f1-score   support\n",
      "\n",
      "           0       0.96      0.79      0.87     87744\n",
      "           1       0.23      0.69      0.34      8195\n",
      "\n",
      "    accuracy                           0.78     95939\n",
      "   macro avg       0.60      0.74      0.60     95939\n",
      "weighted avg       0.90      0.78      0.82     95939\n",
      "\n",
      "0.3439116197937387\n"
     ]
    },
    {
     "data": {
      "image/png": "[encoded data removed]",
      "text/plain": [
       "<Figure size 432x288 with 2 Axes>"
      ]
     },
     "metadata": {
      "needs_background": "light"
     },
     "output_type": "display_data"
    }
   ],
   "source": [
    "# making a prediction and ploting the matrix\n",
    "us_rf_y_pred = us_rf_clf.predict(X_test)\n",
    "us_rf_matrix = confusion_matrix(y_test,us_rf_y_pred)\n",
    "plotMatrixWithReport(us_rf_matrix, y_test, us_rf_y_pred)"
   ]
  },
  {
   "cell_type": "markdown",
   "id": "49b24f72-9abc-4d5f-a9c7-de0f66d38e2a",
   "metadata": {},
   "source": [
    "*We can see that the random forest model is very much similar to the logistic regression one. When working with imbalance data it performs a bit better than the logistic regression (looking at the f1-score and the recall for reference), however when working with somewhat balanced data random forest was better in predicting the postive outcome but much worse in predicting the negativ outcome.*"
   ]
  },
  {
   "cell_type": "code",
   "execution_count": 34,
   "id": "958e739a-f5f9-4624-856d-5a3d856252de",
   "metadata": {},
   "outputs": [
    {
     "data": {
      "image/png": "[encoded data removed]",
      "text/plain": [
       "<Figure size 1440x720 with 8 Axes>"
      ]
     },
     "metadata": {
      "needs_background": "light"
     },
     "output_type": "display_data"
    }
   ],
   "source": [
    "fig, axs = plt.subplots(nrows=2, ncols=2, figsize=(20, 10))\n",
    "s = sns.heatmap(matrix, annot=True, fmt=\"d\", ax=axs[0,0])\n",
    "s.set(xlabel='Predicted', ylabel='True', title=\"Logistic regression\")\n",
    "\n",
    "s = sns.heatmap(rf_matrix, annot=True, fmt=\"d\", ax=axs[0,1])\n",
    "s.set(xlabel='Predicted', ylabel='True', title=\"Random forest\")\n",
    "\n",
    "s = sns.heatmap(resamp_matrix, annot=True, fmt=\"d\", ax=axs[1,0])\n",
    "s.set(xlabel='Predicted', ylabel='True', title=\"Logistic regression undersampled\")\n",
    "\n",
    "s = sns.heatmap(us_rf_matrix, annot=True, fmt=\"d\", ax=axs[1,1])\n",
    "s.set(xlabel='Predicted', ylabel='True', title=\"Random forest undersampled\")\n",
    "plt.show()"
   ]
  },
  {
   "cell_type": "markdown",
   "id": "54cc9dc2-6331-4020-a44c-77535323c2d2",
   "metadata": {},
   "source": [
    "*When looking at the above confusion matrices we can see that no matter what the data is random forest made less critical mistakes (false negatives), however the accuracy is worst no mater what data is used. Making a decision what algorithm to choose depends on the use case of the algorithm. In my case where I would like to give people the percentage risk of them having a heart disease I think that the logistic regression model fits better, because it is a more balanced model and is decent at predicting both the positiv and the negative outcomes.*"
   ]
  },
  {
   "cell_type": "code",
   "execution_count": 35,
   "id": "2e2ba608-d287-4bc8-ba5b-b35a12f82bb0",
   "metadata": {},
   "outputs": [
    {
     "name": "stdout",
     "output_type": "stream",
     "text": [
      "43.74271632227388 %\n",
      "87.33048734154465 %\n"
     ]
    },
    {
     "name": "stderr",
     "output_type": "stream",
     "text": [
      "/home/vedranselak/anaconda3/lib/python3.9/site-packages/sklearn/base.py:450: UserWarning: X does not have valid feature names, but LogisticRegression was fitted with feature names\n",
      "  warnings.warn(\n",
      "/home/vedranselak/anaconda3/lib/python3.9/site-packages/sklearn/base.py:450: UserWarning: X does not have valid feature names, but LogisticRegression was fitted with feature names\n",
      "  warnings.warn(\n"
     ]
    }
   ],
   "source": [
    "print(model.predict_proba([[24.03,1,0,1,10.0,0.0,1,0,11,1,0,1,4,9.0,1,0,0]])[0, 1] * 100, \"%\")\n",
    "print(resamp_model.predict_proba([[24.03,1,0,1,10.0,0.0,1,0,11,1,0,1,4,9.0,1,0,0]])[0, 1] * 100, \"%\")"
   ]
  },
  {
   "cell_type": "code",
   "execution_count": null,
   "id": "4d5c679c-fd23-4c88-b7f8-4a55d6e372a2",
   "metadata": {},
   "outputs": [],
   "source": []
  },
  {
   "cell_type": "code",
   "execution_count": null,
   "id": "3050314d-3ded-41b5-9b69-0180608489cf",
   "metadata": {},
   "outputs": [],
   "source": []
  }
 ],
 "metadata": {
  "kernelspec": {
   "display_name": "Python 3 (ipykernel)",
   "language": "python",
   "name": "python3"
  },
  "language_info": {
   "codemirror_mode": {
    "name": "ipython",
    "version": 3
   },
   "file_extension": ".py",
   "mimetype": "text/x-python",
   "name": "python",
   "nbconvert_exporter": "python",
   "pygments_lexer": "ipython3",
   "version": "3.9.7"
  }
 },
 "nbformat": 4,
 "nbformat_minor": 5
}
